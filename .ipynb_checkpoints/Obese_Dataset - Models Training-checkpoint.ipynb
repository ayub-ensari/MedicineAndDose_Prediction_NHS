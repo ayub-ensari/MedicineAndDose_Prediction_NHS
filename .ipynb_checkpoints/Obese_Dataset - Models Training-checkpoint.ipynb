{
 "cells": [
  {
   "cell_type": "markdown",
   "metadata": {},
   "source": [
    "### Importing Libraries"
   ]
  },
  {
   "cell_type": "code",
   "execution_count": 1,
   "metadata": {},
   "outputs": [],
   "source": [
    "import sys\n",
    "import pandas as pd\n",
    "import matplotlib.pyplot as plt\n",
    "import numpy as np\n",
    "import seaborn as sns\n",
    "import sklearn\n",
    "from sklearn import preprocessing"
   ]
  },
  {
   "cell_type": "markdown",
   "metadata": {},
   "source": [
    "### Displaying the version of Libraries used"
   ]
  },
  {
   "cell_type": "code",
   "execution_count": 2,
   "metadata": {},
   "outputs": [
    {
     "name": "stdout",
     "output_type": "stream",
     "text": [
      "Python: 3.9.5 (tags/v3.9.5:0a7dcbd, May  3 2021, 17:27:52) [MSC v.1928 64 bit (AMD64)]\n",
      "pandas: 1.4.1\n",
      "numpy: 1.22.2\n",
      "seaborn: 0.11.2\n",
      "sklearn: 1.0.2\n"
     ]
    }
   ],
   "source": [
    "# Python version\n",
    "print('Python: {}'.format(sys.version))\n",
    "# pandas\n",
    "print('pandas: {}'.format(pd.__version__))\n",
    "# numpy\n",
    "print('numpy: {}'.format(np.__version__))\n",
    "# seaborn\n",
    "print('seaborn: {}'.format(sns.__version__))\n",
    "# scikit-learn\n",
    "print('sklearn: {}'.format(sklearn.__version__))\n"
   ]
  },
  {
   "cell_type": "markdown",
   "metadata": {},
   "source": [
    "# 1. Obese Dataset"
   ]
  },
  {
   "cell_type": "code",
   "execution_count": 3,
   "metadata": {},
   "outputs": [],
   "source": [
    "columnsNames = ['MRN', 'Ethnic_Group', 'PersonSK', 'EncounterSK', 'Length_Of_Stay',\n",
    "       'EventSk', 'Age_at_Given_Date', 'EventType', 'AC_Amount',\n",
    "       'EGFR_Result_60_Or_Less', 'EGFR_Result', 'Gender','Date Of Death', 'Deceased_in_EPR',\n",
    "       'Clinical_Display', 'Bleeding_Risk', 'VTE_Risk', 'Height', 'Weight',\n",
    "       'Calculated_BMI', 'Actual_BMI', 'BMI_Flag',\n",
    "       'Emergency_Admissions_Upto_36_Months_After_PerformedTime',\n",
    "       'Has_Comorbidity_Recorded_on_Spell',\n",
    "       'Has_Bleeding_Event_(or_Stroke)_on_Spell', 'Has_Stroke_on_Spell',\n",
    "       'Has_Thrombosis_on_Spell','Treatment_days']\n",
    "#obese_df = pd.read_csv(\"obese.csv\", header=None, names = columnsNames)\n",
    "obese_df = pd.read_csv(\"obese.csv\")\n",
    "obese_df.columns=columnsNames"
   ]
  },
  {
   "cell_type": "markdown",
   "metadata": {},
   "source": [
    "#### drop clinical display for the time being"
   ]
  },
  {
   "cell_type": "code",
   "execution_count": 4,
   "metadata": {},
   "outputs": [],
   "source": [
    "obese_df = obese_df.drop(['Clinical_Display'],axis=1)\n",
    "obese_df = obese_df.drop(['Ethnic_Group'],axis=1)\n",
    "obese_df = obese_df.drop(['MRN'],axis=1)\n",
    "obese_df = obese_df.drop(['PersonSK'],axis=1)\n",
    "obese_df = obese_df.drop(['EncounterSK'],axis=1)\n",
    "obese_df = obese_df.drop(['EventSk'],axis=1)\n",
    "obese_df = obese_df.drop(['Date Of Death'],axis=1)"
   ]
  },
  {
   "cell_type": "code",
   "execution_count": 5,
   "metadata": {},
   "outputs": [
    {
     "name": "stdout",
     "output_type": "stream",
     "text": [
      "Shape of data:  (29004, 21)\n",
      "Index(['Length_Of_Stay', 'Age_at_Given_Date', 'EventType', 'AC_Amount',\n",
      "       'EGFR_Result_60_Or_Less', 'EGFR_Result', 'Gender', 'Deceased_in_EPR',\n",
      "       'Bleeding_Risk', 'VTE_Risk', 'Height', 'Weight', 'Calculated_BMI',\n",
      "       'Actual_BMI', 'BMI_Flag',\n",
      "       'Emergency_Admissions_Upto_36_Months_After_PerformedTime',\n",
      "       'Has_Comorbidity_Recorded_on_Spell',\n",
      "       'Has_Bleeding_Event_(or_Stroke)_on_Spell', 'Has_Stroke_on_Spell',\n",
      "       'Has_Thrombosis_on_Spell', 'Treatment_days'],\n",
      "      dtype='object')\n"
     ]
    }
   ],
   "source": [
    "print(\"Shape of data: \", obese_df.shape)\n",
    "print(obese_df.columns)\n",
    "#print(obese_df.head(5))"
   ]
  },
  {
   "cell_type": "markdown",
   "metadata": {},
   "source": [
    "## Y atribute handling "
   ]
  },
  {
   "cell_type": "code",
   "execution_count": 6,
   "metadata": {},
   "outputs": [],
   "source": [
    "#Inorder to have the the less number of Classes. We decided to delete some records from the \"Rivaroxaban\" as \n",
    "#it is much smaller class comapred to Apixaban. We are doing it becasue Apixaban and Rivaroxiban have two \n",
    "#same dose quantities. i.e. 2.5 and 10 \n",
    "#Apixaban = 2.5,5,10 \n",
    "#Dabigantan = 75,110,150 \n",
    "#Edixaban = 30,60 \n",
    "#Rivaroxaban = 2.5, 10,15,20\n",
    "#Remove records woth Rivaroxaban AC amount 2.5\n",
    "obese_df.drop(obese_df.loc[(obese_df.EventType== 'rivaroxaban') & (obese_df.AC_Amount ==2.5)].index, inplace=True)"
   ]
  },
  {
   "cell_type": "code",
   "execution_count": 7,
   "metadata": {},
   "outputs": [],
   "source": [
    "#Replacing records woth Rivaroxaban AC amount 10 to 11 \n",
    "obese_df.loc[(obese_df.EventType== 'rivaroxaban') & (obese_df.AC_Amount ==10) , \"AC_Amount\"] = 11"
   ]
  },
  {
   "cell_type": "code",
   "execution_count": 8,
   "metadata": {},
   "outputs": [],
   "source": [
    "### Noise in Actual_BMI with extreme values of 204081.63. It should be 20.40816\n",
    "obese_df.loc[obese_df.Actual_BMI ==204081.63 , \"Actual_BMI\"] = 20.408"
   ]
  },
  {
   "cell_type": "markdown",
   "metadata": {},
   "source": [
    "#### Covert to boolean "
   ]
  },
  {
   "cell_type": "code",
   "execution_count": 9,
   "metadata": {},
   "outputs": [],
   "source": [
    "obese_df['Gender'] = obese_df['Gender'].str.lower()\n",
    "d={'yes': 1, 'no': 0}\n",
    "obese_df.Gender = obese_df['Gender'].map({'male': 1, 'female': 0})"
   ]
  },
  {
   "cell_type": "code",
   "execution_count": 10,
   "metadata": {},
   "outputs": [],
   "source": [
    "obese_df['EGFR_Result_60_Or_Less'] = obese_df['EGFR_Result_60_Or_Less'].str.lower()\n",
    "d={'yes': 1, 'no': 0}\n",
    "obese_df.EGFR_Result_60_Or_Less = obese_df['EGFR_Result_60_Or_Less'].map({'yes': 1, 'no': 0})"
   ]
  },
  {
   "cell_type": "code",
   "execution_count": 11,
   "metadata": {},
   "outputs": [],
   "source": [
    "obese_df['Deceased_in_EPR'] = obese_df['Deceased_in_EPR'].str.lower()\n",
    "d={'yes': 1, 'no': 0}\n",
    "obese_df.Deceased_in_EPR = obese_df['Deceased_in_EPR'].map({'yes': 1, 'no': 0})"
   ]
  },
  {
   "cell_type": "code",
   "execution_count": 12,
   "metadata": {},
   "outputs": [],
   "source": [
    "obese_df['Bleeding_Risk'] = obese_df['Bleeding_Risk'].str.lower()\n",
    "d={'yes': 1, 'no': 0}\n",
    "obese_df.Bleeding_Risk = obese_df['Bleeding_Risk'].map({'high': 1, 'low': 0})"
   ]
  },
  {
   "cell_type": "code",
   "execution_count": 13,
   "metadata": {},
   "outputs": [],
   "source": [
    "obese_df['VTE_Risk'] = obese_df['VTE_Risk'].str.lower()\n",
    "d={'yes': 1, 'no': 0}\n",
    "obese_df.VTE_Risk = obese_df['VTE_Risk'].map({'high': 1, 'low': 0})"
   ]
  },
  {
   "cell_type": "code",
   "execution_count": 14,
   "metadata": {},
   "outputs": [],
   "source": [
    "obese_df['BMI_Flag'] = obese_df['BMI_Flag'].str.lower()\n",
    "d={'yes': 1, 'no': 0}\n",
    "obese_df.BMI_Flag = obese_df['BMI_Flag'].map({'yes': 1})"
   ]
  },
  {
   "cell_type": "code",
   "execution_count": 15,
   "metadata": {},
   "outputs": [],
   "source": [
    "obese_df['Has_Comorbidity_Recorded_on_Spell'] = obese_df['Has_Comorbidity_Recorded_on_Spell'].str.lower()\n",
    "d={'yes': 1, 'no': 0}\n",
    "obese_df.Has_Comorbidity_Recorded_on_Spell = obese_df['Has_Comorbidity_Recorded_on_Spell'].map({'yes': 1, 'no': 0})"
   ]
  },
  {
   "cell_type": "code",
   "execution_count": 16,
   "metadata": {},
   "outputs": [],
   "source": [
    "obese_df['Has_Bleeding_Event_(or_Stroke)_on_Spell'] = obese_df['Has_Bleeding_Event_(or_Stroke)_on_Spell'].str.lower()\n",
    "d={'yes': 1, 'no': 0}\n",
    "obese_df['Has_Bleeding_Event_(or_Stroke)_on_Spell'] = obese_df['Has_Bleeding_Event_(or_Stroke)_on_Spell'].map({'yes': 1, 'no': 0})"
   ]
  },
  {
   "cell_type": "code",
   "execution_count": 17,
   "metadata": {},
   "outputs": [],
   "source": [
    "obese_df['Has_Stroke_on_Spell'] = obese_df['Has_Stroke_on_Spell'].str.lower()\n",
    "d={'yes': 1, 'no': 0}\n",
    "obese_df.Has_Stroke_on_Spell = obese_df['Has_Stroke_on_Spell'].map({'yes': 1, 'no': 0})"
   ]
  },
  {
   "cell_type": "code",
   "execution_count": 18,
   "metadata": {},
   "outputs": [],
   "source": [
    "obese_df['Has_Thrombosis_on_Spell'] = obese_df['Has_Thrombosis_on_Spell'].str.lower()\n",
    "d={'yes': 1, 'no': 0}\n",
    "obese_df.Has_Thrombosis_on_Spell = obese_df['Has_Thrombosis_on_Spell'].map({'yes': 1, 'no': 0})"
   ]
  },
  {
   "cell_type": "code",
   "execution_count": 19,
   "metadata": {},
   "outputs": [
    {
     "data": {
      "text/plain": [
       "20    0\n",
       "21    0\n",
       "22    0\n",
       "23    0\n",
       "24    0\n",
       "25    0\n",
       "26    0\n",
       "27    0\n",
       "28    0\n",
       "29    0\n",
       "Name: Has_Thrombosis_on_Spell, dtype: int64"
      ]
     },
     "execution_count": 19,
     "metadata": {},
     "output_type": "execute_result"
    }
   ],
   "source": [
    "obese_df.Has_Thrombosis_on_Spell[20:30]"
   ]
  },
  {
   "cell_type": "code",
   "execution_count": 20,
   "metadata": {},
   "outputs": [
    {
     "data": {
      "text/plain": [
       "(29000, 21)"
      ]
     },
     "execution_count": 20,
     "metadata": {},
     "output_type": "execute_result"
    }
   ],
   "source": [
    "obese_df.shape"
   ]
  },
  {
   "cell_type": "code",
   "execution_count": 21,
   "metadata": {},
   "outputs": [
    {
     "data": {
      "text/plain": [
       "Length_Of_Stay                                               88\n",
       "Age_at_Given_Date                                            74\n",
       "EventType                                                     4\n",
       "AC_Amount                                                    11\n",
       "EGFR_Result_60_Or_Less                                        2\n",
       "EGFR_Result                                                  86\n",
       "Gender                                                        2\n",
       "Deceased_in_EPR                                               2\n",
       "Bleeding_Risk                                                 2\n",
       "VTE_Risk                                                      2\n",
       "Height                                                      295\n",
       "Weight                                                     1408\n",
       "Calculated_BMI                                             4510\n",
       "Actual_BMI                                                 1859\n",
       "BMI_Flag                                                      1\n",
       "Emergency_Admissions_Upto_36_Months_After_PerformedTime      28\n",
       "Has_Comorbidity_Recorded_on_Spell                             2\n",
       "Has_Bleeding_Event_(or_Stroke)_on_Spell                       2\n",
       "Has_Stroke_on_Spell                                           2\n",
       "Has_Thrombosis_on_Spell                                       2\n",
       "Treatment_days                                             1641\n",
       "dtype: int64"
      ]
     },
     "execution_count": 21,
     "metadata": {},
     "output_type": "execute_result"
    }
   ],
   "source": [
    "obese_df.nunique()"
   ]
  },
  {
   "cell_type": "code",
   "execution_count": 22,
   "metadata": {},
   "outputs": [
    {
     "data": {
      "text/plain": [
       "Length_Of_Stay                                             0\n",
       "Age_at_Given_Date                                          0\n",
       "EventType                                                  0\n",
       "AC_Amount                                                  0\n",
       "EGFR_Result_60_Or_Less                                     0\n",
       "EGFR_Result                                                0\n",
       "Gender                                                     0\n",
       "Deceased_in_EPR                                            0\n",
       "Bleeding_Risk                                              0\n",
       "VTE_Risk                                                   0\n",
       "Height                                                     0\n",
       "Weight                                                     0\n",
       "Calculated_BMI                                             0\n",
       "Actual_BMI                                                 0\n",
       "BMI_Flag                                                   0\n",
       "Emergency_Admissions_Upto_36_Months_After_PerformedTime    0\n",
       "Has_Comorbidity_Recorded_on_Spell                          0\n",
       "Has_Bleeding_Event_(or_Stroke)_on_Spell                    0\n",
       "Has_Stroke_on_Spell                                        0\n",
       "Has_Thrombosis_on_Spell                                    0\n",
       "Treatment_days                                             0\n",
       "dtype: int64"
      ]
     },
     "execution_count": 22,
     "metadata": {},
     "output_type": "execute_result"
    }
   ],
   "source": [
    "obese_df.isnull( ).sum( )"
   ]
  },
  {
   "cell_type": "code",
   "execution_count": 23,
   "metadata": {},
   "outputs": [
    {
     "name": "stdout",
     "output_type": "stream",
     "text": [
      "<class 'pandas.core.frame.DataFrame'>\n",
      "Int64Index: 29000 entries, 0 to 29003\n",
      "Data columns (total 21 columns):\n",
      " #   Column                                                   Non-Null Count  Dtype  \n",
      "---  ------                                                   --------------  -----  \n",
      " 0   Length_Of_Stay                                           29000 non-null  float64\n",
      " 1   Age_at_Given_Date                                        29000 non-null  int64  \n",
      " 2   EventType                                                29000 non-null  object \n",
      " 3   AC_Amount                                                29000 non-null  float64\n",
      " 4   EGFR_Result_60_Or_Less                                   29000 non-null  int64  \n",
      " 5   EGFR_Result                                              29000 non-null  float64\n",
      " 6   Gender                                                   29000 non-null  int64  \n",
      " 7   Deceased_in_EPR                                          29000 non-null  int64  \n",
      " 8   Bleeding_Risk                                            29000 non-null  int64  \n",
      " 9   VTE_Risk                                                 29000 non-null  int64  \n",
      " 10  Height                                                   29000 non-null  float64\n",
      " 11  Weight                                                   29000 non-null  float64\n",
      " 12  Calculated_BMI                                           29000 non-null  float64\n",
      " 13  Actual_BMI                                               29000 non-null  float64\n",
      " 14  BMI_Flag                                                 29000 non-null  int64  \n",
      " 15  Emergency_Admissions_Upto_36_Months_After_PerformedTime  29000 non-null  int64  \n",
      " 16  Has_Comorbidity_Recorded_on_Spell                        29000 non-null  int64  \n",
      " 17  Has_Bleeding_Event_(or_Stroke)_on_Spell                  29000 non-null  int64  \n",
      " 18  Has_Stroke_on_Spell                                      29000 non-null  int64  \n",
      " 19  Has_Thrombosis_on_Spell                                  29000 non-null  int64  \n",
      " 20  Treatment_days                                           29000 non-null  float64\n",
      "dtypes: float64(8), int64(12), object(1)\n",
      "memory usage: 4.9+ MB\n"
     ]
    }
   ],
   "source": [
    "obese_df.info()"
   ]
  },
  {
   "cell_type": "markdown",
   "metadata": {},
   "source": [
    "# 2 - Visualization"
   ]
  },
  {
   "cell_type": "markdown",
   "metadata": {},
   "source": [
    "## Ethinic Group"
   ]
  },
  {
   "cell_type": "code",
   "execution_count": 24,
   "metadata": {},
   "outputs": [],
   "source": [
    "#kk = obese_df[\"Ethnic Group\"].value_counts()\n",
    "#print(kk)\n",
    "#plt.figure();\n",
    "\n",
    "#kk.plot(kind=\"pie\");"
   ]
  },
  {
   "cell_type": "markdown",
   "metadata": {},
   "source": [
    "## Age at Given Date - bar"
   ]
  },
  {
   "cell_type": "code",
   "execution_count": 25,
   "metadata": {},
   "outputs": [
    {
     "name": "stdout",
     "output_type": "stream",
     "text": [
      "79    1424\n",
      "83    1409\n",
      "77    1359\n",
      "78    1266\n",
      "81    1266\n",
      "      ... \n",
      "28       4\n",
      "27       4\n",
      "31       2\n",
      "23       2\n",
      "36       1\n",
      "Name: Age_at_Given_Date, Length: 74, dtype: int64\n"
     ]
    },
    {
     "data": {
      "image/png": "[encoded data removed]",
      "text/plain": [
       "<Figure size 1440x640 with 1 Axes>"
      ]
     },
     "metadata": {
      "needs_background": "light"
     },
     "output_type": "display_data"
    }
   ],
   "source": [
    "kk = obese_df['Age_at_Given_Date'].value_counts()\n",
    "#kk = pd.value_counts(obese_df['Age at Given Date'])\n",
    "print(kk)\n",
    "plt.figure(figsize=(18, 8), dpi=80);\n",
    "plt.xlabel('Age at a given date')\n",
    "plt.ylabel('count')\n",
    "kk.plot(kind=\"bar\");\n"
   ]
  },
  {
   "cell_type": "markdown",
   "metadata": {},
   "source": [
    "## EventType - pie"
   ]
  },
  {
   "cell_type": "code",
   "execution_count": 26,
   "metadata": {},
   "outputs": [
    {
     "name": "stdout",
     "output_type": "stream",
     "text": [
      "apixaban       24085\n",
      "rivaroxaban     4518\n",
      "dabigatran       306\n",
      "edoxaban          91\n",
      "Name: EventType, dtype: int64\n"
     ]
    },
    {
     "data": {
      "image/png": "[encoded data removed]",
      "text/plain": [
       "<Figure size 432x288 with 1 Axes>"
      ]
     },
     "metadata": {},
     "output_type": "display_data"
    }
   ],
   "source": [
    "kk = obese_df[\"EventType\"].value_counts()\n",
    "print(kk)\n",
    "plt.figure();\n",
    "\n",
    "kk.plot(kind=\"pie\");"
   ]
  },
  {
   "cell_type": "markdown",
   "metadata": {},
   "source": [
    "## AC Amount -pie\n",
    "\n",
    "Comapre and contract withthe type of dose."
   ]
  },
  {
   "cell_type": "code",
   "execution_count": 27,
   "metadata": {},
   "outputs": [
    {
     "name": "stdout",
     "output_type": "stream",
     "text": [
      "5.0      13186\n",
      "2.5      10205\n",
      "20.0      2460\n",
      "15.0      1851\n",
      "10.0       694\n",
      "110.0      212\n",
      "11.0       207\n",
      "150.0       92\n",
      "30.0        48\n",
      "60.0        43\n",
      "75.0         2\n",
      "Name: AC_Amount, dtype: int64\n"
     ]
    },
    {
     "data": {
      "image/png": "[encoded data removed]",
      "text/plain": [
       "<Figure size 800x400 with 1 Axes>"
      ]
     },
     "metadata": {
      "needs_background": "light"
     },
     "output_type": "display_data"
    }
   ],
   "source": [
    "kk = obese_df[\"AC_Amount\"].value_counts()\n",
    "print(kk)\n",
    "plt.figure(figsize=(10, 5), dpi=80);\n",
    "plt.xlabel('AC Amount')\n",
    "plt.ylabel('count')\n",
    "kk.plot(kind=\"bar\");"
   ]
  },
  {
   "cell_type": "markdown",
   "metadata": {},
   "source": [
    "## Bleeding Risk -pie"
   ]
  },
  {
   "cell_type": "code",
   "execution_count": 28,
   "metadata": {},
   "outputs": [
    {
     "name": "stdout",
     "output_type": "stream",
     "text": [
      "2\n",
      "1    19862\n",
      "0     9138\n",
      "Name: Bleeding_Risk, dtype: int64\n"
     ]
    },
    {
     "data": {
      "image/png": "[encoded data removed]",
      "text/plain": [
       "<Figure size 432x288 with 1 Axes>"
      ]
     },
     "metadata": {},
     "output_type": "display_data"
    }
   ],
   "source": [
    "print(obese_df.Bleeding_Risk.nunique())\n",
    "kk = obese_df[\"Bleeding_Risk\"].value_counts()\n",
    "print(kk)\n",
    "plt.figure();\n",
    "\n",
    "kk.plot(kind=\"pie\");"
   ]
  },
  {
   "cell_type": "markdown",
   "metadata": {},
   "source": [
    "## VTE Risk  - pie"
   ]
  },
  {
   "cell_type": "code",
   "execution_count": 29,
   "metadata": {},
   "outputs": [
    {
     "name": "stdout",
     "output_type": "stream",
     "text": [
      "1    28765\n",
      "0      235\n",
      "Name: VTE_Risk, dtype: int64\n"
     ]
    },
    {
     "data": {
      "image/png": "[encoded data removed]",
      "text/plain": [
       "<Figure size 432x288 with 1 Axes>"
      ]
     },
     "metadata": {},
     "output_type": "display_data"
    }
   ],
   "source": [
    "kk = obese_df[\"VTE_Risk\"].value_counts()\n",
    "print(kk)\n",
    "plt.figure();\n",
    "\n",
    "kk.plot(kind=\"pie\");"
   ]
  },
  {
   "cell_type": "markdown",
   "metadata": {},
   "source": [
    "## Emergency Admissions Upto 36 Months After PerformedTime - bar"
   ]
  },
  {
   "cell_type": "code",
   "execution_count": 30,
   "metadata": {},
   "outputs": [
    {
     "name": "stdout",
     "output_type": "stream",
     "text": [
      "1     7883\n",
      "0     6432\n",
      "2     4567\n",
      "3     3642\n",
      "4     2231\n",
      "5     1276\n",
      "6      732\n",
      "7      612\n",
      "8      347\n",
      "10     317\n",
      "9      212\n",
      "11     181\n",
      "12     170\n",
      "14      74\n",
      "15      61\n",
      "19      52\n",
      "13      50\n",
      "23      43\n",
      "17      28\n",
      "22      19\n",
      "21      17\n",
      "18      16\n",
      "24      11\n",
      "16      10\n",
      "26       7\n",
      "20       6\n",
      "31       2\n",
      "29       2\n",
      "Name: Emergency_Admissions_Upto_36_Months_After_PerformedTime, dtype: int64\n"
     ]
    },
    {
     "data": {
      "image/png": "[encoded data removed]",
      "text/plain": [
       "<Figure size 800x400 with 1 Axes>"
      ]
     },
     "metadata": {
      "needs_background": "light"
     },
     "output_type": "display_data"
    }
   ],
   "source": [
    "kk = obese_df[\"Emergency_Admissions_Upto_36_Months_After_PerformedTime\"].value_counts()\n",
    "print(kk)\n",
    "plt.figure(figsize=(10, 5), dpi=80);\n",
    "plt.xlabel('Emergency Admissions Upto 36 Months After PerformedTime')\n",
    "plt.ylabel('count')\n",
    "kk.plot(kind=\"bar\");"
   ]
  },
  {
   "cell_type": "code",
   "execution_count": null,
   "metadata": {},
   "outputs": [],
   "source": []
  },
  {
   "cell_type": "markdown",
   "metadata": {},
   "source": [
    "## One Hot-Encoding\n",
    "Label encoding has the advantage that it is straightforward but it has the disadvantage that the numeric values can be “misinterpreted” by the algorithms. For example, the value of 0 is obviously less than the value of 4 but does that really correspond to the data set in real life? Does a wagon have “4X” more weight in our calculation than the convertible? In this example, I don’t think so.\n",
    "\n",
    "A common alternative approach is called one hot encoding (but also goes by several different names shown below). Despite the different names, the basic strategy is to convert each category value into a new column and assigns a 1 or 0 (True/False) value to the column. This has the benefit of not weighting a value improperly but does have the downside of adding more columns to the data set.\n",
    "\n",
    "Pandas supports this feature using get_dummies. This function is named this way because it creates dummy/indicator variables (aka 1 or 0)."
   ]
  },
  {
   "cell_type": "code",
   "execution_count": 31,
   "metadata": {},
   "outputs": [],
   "source": [
    "obese_df = pd.get_dummies(obese_df, columns=[\"EventType\"])"
   ]
  },
  {
   "cell_type": "code",
   "execution_count": 32,
   "metadata": {},
   "outputs": [
    {
     "name": "stdout",
     "output_type": "stream",
     "text": [
      "<class 'pandas.core.frame.DataFrame'>\n",
      "Int64Index: 29000 entries, 0 to 29003\n",
      "Data columns (total 24 columns):\n",
      " #   Column                                                   Non-Null Count  Dtype  \n",
      "---  ------                                                   --------------  -----  \n",
      " 0   Length_Of_Stay                                           29000 non-null  float64\n",
      " 1   Age_at_Given_Date                                        29000 non-null  int64  \n",
      " 2   AC_Amount                                                29000 non-null  float64\n",
      " 3   EGFR_Result_60_Or_Less                                   29000 non-null  int64  \n",
      " 4   EGFR_Result                                              29000 non-null  float64\n",
      " 5   Gender                                                   29000 non-null  int64  \n",
      " 6   Deceased_in_EPR                                          29000 non-null  int64  \n",
      " 7   Bleeding_Risk                                            29000 non-null  int64  \n",
      " 8   VTE_Risk                                                 29000 non-null  int64  \n",
      " 9   Height                                                   29000 non-null  float64\n",
      " 10  Weight                                                   29000 non-null  float64\n",
      " 11  Calculated_BMI                                           29000 non-null  float64\n",
      " 12  Actual_BMI                                               29000 non-null  float64\n",
      " 13  BMI_Flag                                                 29000 non-null  int64  \n",
      " 14  Emergency_Admissions_Upto_36_Months_After_PerformedTime  29000 non-null  int64  \n",
      " 15  Has_Comorbidity_Recorded_on_Spell                        29000 non-null  int64  \n",
      " 16  Has_Bleeding_Event_(or_Stroke)_on_Spell                  29000 non-null  int64  \n",
      " 17  Has_Stroke_on_Spell                                      29000 non-null  int64  \n",
      " 18  Has_Thrombosis_on_Spell                                  29000 non-null  int64  \n",
      " 19  Treatment_days                                           29000 non-null  float64\n",
      " 20  EventType_apixaban                                       29000 non-null  uint8  \n",
      " 21  EventType_dabigatran                                     29000 non-null  uint8  \n",
      " 22  EventType_edoxaban                                       29000 non-null  uint8  \n",
      " 23  EventType_rivaroxaban                                    29000 non-null  uint8  \n",
      "dtypes: float64(8), int64(12), uint8(4)\n",
      "memory usage: 4.8 MB\n"
     ]
    }
   ],
   "source": [
    "obese_df.info()"
   ]
  },
  {
   "cell_type": "markdown",
   "metadata": {},
   "source": [
    "### Class Attribute - y"
   ]
  },
  {
   "cell_type": "markdown",
   "metadata": {},
   "source": [
    "Inorder to have the the less number of Classes. We decided to delete some records from the \"Rivaroxaban\" as it is much smaller class \n",
    "comapred to Apixaban. We are doing it becasue Apixaban and Rivaroxiban have two same dose quantities. i.e. 2.5 and 10\n",
    "Apixaban = 2.5,5,10\n",
    "Dabigantan = 75,110,150\n",
    "Edixaban = 30,60\n",
    "Rivaroxaban = 2.5, 10,15,20\n",
    "\n"
   ]
  },
  {
   "cell_type": "code",
   "execution_count": null,
   "metadata": {},
   "outputs": [],
   "source": []
  },
  {
   "cell_type": "code",
   "execution_count": 33,
   "metadata": {},
   "outputs": [],
   "source": [
    "cleanup_nums = {\"AC_Amount\": {2.5:\"apixaban_2.5\", 5:\"apixaban_5\", 10:\"apixaban_10\", 11:\"rivaroxaban_10\",\n",
    "                              15:\"rivaroxaban_15\",\n",
    "                             20:\"rivaroxaban_20\", 30:\"edoxaban_30\", 60:\"edoxaban_60\",\n",
    "                              75:\"dabigatran_75\", 110:\"dabigatran_110\", 150:\"dabigatran_150\"}}\n",
    "obese_df = obese_df.replace(cleanup_nums)"
   ]
  },
  {
   "cell_type": "code",
   "execution_count": 34,
   "metadata": {},
   "outputs": [
    {
     "data": {
      "text/html": [
       "<div>\n",
       "<style scoped>\n",
       "    .dataframe tbody tr th:only-of-type {\n",
       "        vertical-align: middle;\n",
       "    }\n",
       "\n",
       "    .dataframe tbody tr th {\n",
       "        vertical-align: top;\n",
       "    }\n",
       "\n",
       "    .dataframe thead th {\n",
       "        text-align: right;\n",
       "    }\n",
       "</style>\n",
       "<table border=\"1\" class=\"dataframe\">\n",
       "  <thead>\n",
       "    <tr style=\"text-align: right;\">\n",
       "      <th></th>\n",
       "      <th>Length_Of_Stay</th>\n",
       "      <th>Age_at_Given_Date</th>\n",
       "      <th>AC_Amount</th>\n",
       "      <th>EGFR_Result_60_Or_Less</th>\n",
       "      <th>EGFR_Result</th>\n",
       "      <th>Gender</th>\n",
       "      <th>Deceased_in_EPR</th>\n",
       "      <th>Bleeding_Risk</th>\n",
       "      <th>VTE_Risk</th>\n",
       "      <th>Height</th>\n",
       "      <th>...</th>\n",
       "      <th>Emergency_Admissions_Upto_36_Months_After_PerformedTime</th>\n",
       "      <th>Has_Comorbidity_Recorded_on_Spell</th>\n",
       "      <th>Has_Bleeding_Event_(or_Stroke)_on_Spell</th>\n",
       "      <th>Has_Stroke_on_Spell</th>\n",
       "      <th>Has_Thrombosis_on_Spell</th>\n",
       "      <th>Treatment_days</th>\n",
       "      <th>EventType_apixaban</th>\n",
       "      <th>EventType_dabigatran</th>\n",
       "      <th>EventType_edoxaban</th>\n",
       "      <th>EventType_rivaroxaban</th>\n",
       "    </tr>\n",
       "  </thead>\n",
       "  <tbody>\n",
       "    <tr>\n",
       "      <th>0</th>\n",
       "      <td>30.0</td>\n",
       "      <td>83</td>\n",
       "      <td>apixaban_2.5</td>\n",
       "      <td>1</td>\n",
       "      <td>54.0</td>\n",
       "      <td>1</td>\n",
       "      <td>1</td>\n",
       "      <td>1</td>\n",
       "      <td>1</td>\n",
       "      <td>1.82</td>\n",
       "      <td>...</td>\n",
       "      <td>1</td>\n",
       "      <td>1</td>\n",
       "      <td>0</td>\n",
       "      <td>0</td>\n",
       "      <td>0</td>\n",
       "      <td>12.0</td>\n",
       "      <td>1</td>\n",
       "      <td>0</td>\n",
       "      <td>0</td>\n",
       "      <td>0</td>\n",
       "    </tr>\n",
       "    <tr>\n",
       "      <th>1</th>\n",
       "      <td>30.0</td>\n",
       "      <td>83</td>\n",
       "      <td>apixaban_2.5</td>\n",
       "      <td>1</td>\n",
       "      <td>54.0</td>\n",
       "      <td>1</td>\n",
       "      <td>1</td>\n",
       "      <td>1</td>\n",
       "      <td>1</td>\n",
       "      <td>1.82</td>\n",
       "      <td>...</td>\n",
       "      <td>1</td>\n",
       "      <td>1</td>\n",
       "      <td>0</td>\n",
       "      <td>0</td>\n",
       "      <td>0</td>\n",
       "      <td>11.0</td>\n",
       "      <td>1</td>\n",
       "      <td>0</td>\n",
       "      <td>0</td>\n",
       "      <td>0</td>\n",
       "    </tr>\n",
       "    <tr>\n",
       "      <th>2</th>\n",
       "      <td>30.0</td>\n",
       "      <td>83</td>\n",
       "      <td>apixaban_2.5</td>\n",
       "      <td>1</td>\n",
       "      <td>54.0</td>\n",
       "      <td>1</td>\n",
       "      <td>1</td>\n",
       "      <td>1</td>\n",
       "      <td>1</td>\n",
       "      <td>1.82</td>\n",
       "      <td>...</td>\n",
       "      <td>1</td>\n",
       "      <td>1</td>\n",
       "      <td>0</td>\n",
       "      <td>0</td>\n",
       "      <td>0</td>\n",
       "      <td>11.0</td>\n",
       "      <td>1</td>\n",
       "      <td>0</td>\n",
       "      <td>0</td>\n",
       "      <td>0</td>\n",
       "    </tr>\n",
       "    <tr>\n",
       "      <th>3</th>\n",
       "      <td>30.0</td>\n",
       "      <td>83</td>\n",
       "      <td>apixaban_2.5</td>\n",
       "      <td>1</td>\n",
       "      <td>54.0</td>\n",
       "      <td>1</td>\n",
       "      <td>1</td>\n",
       "      <td>1</td>\n",
       "      <td>1</td>\n",
       "      <td>1.82</td>\n",
       "      <td>...</td>\n",
       "      <td>1</td>\n",
       "      <td>1</td>\n",
       "      <td>0</td>\n",
       "      <td>0</td>\n",
       "      <td>0</td>\n",
       "      <td>10.0</td>\n",
       "      <td>1</td>\n",
       "      <td>0</td>\n",
       "      <td>0</td>\n",
       "      <td>0</td>\n",
       "    </tr>\n",
       "    <tr>\n",
       "      <th>4</th>\n",
       "      <td>30.0</td>\n",
       "      <td>83</td>\n",
       "      <td>apixaban_2.5</td>\n",
       "      <td>1</td>\n",
       "      <td>54.0</td>\n",
       "      <td>1</td>\n",
       "      <td>1</td>\n",
       "      <td>1</td>\n",
       "      <td>1</td>\n",
       "      <td>1.82</td>\n",
       "      <td>...</td>\n",
       "      <td>1</td>\n",
       "      <td>1</td>\n",
       "      <td>0</td>\n",
       "      <td>0</td>\n",
       "      <td>0</td>\n",
       "      <td>10.0</td>\n",
       "      <td>1</td>\n",
       "      <td>0</td>\n",
       "      <td>0</td>\n",
       "      <td>0</td>\n",
       "    </tr>\n",
       "  </tbody>\n",
       "</table>\n",
       "<p>5 rows × 24 columns</p>\n",
       "</div>"
      ],
      "text/plain": [
       "   Length_Of_Stay  Age_at_Given_Date     AC_Amount  EGFR_Result_60_Or_Less  \\\n",
       "0            30.0                 83  apixaban_2.5                       1   \n",
       "1            30.0                 83  apixaban_2.5                       1   \n",
       "2            30.0                 83  apixaban_2.5                       1   \n",
       "3            30.0                 83  apixaban_2.5                       1   \n",
       "4            30.0                 83  apixaban_2.5                       1   \n",
       "\n",
       "   EGFR_Result  Gender  Deceased_in_EPR  Bleeding_Risk  VTE_Risk  Height  ...  \\\n",
       "0         54.0       1                1              1         1    1.82  ...   \n",
       "1         54.0       1                1              1         1    1.82  ...   \n",
       "2         54.0       1                1              1         1    1.82  ...   \n",
       "3         54.0       1                1              1         1    1.82  ...   \n",
       "4         54.0       1                1              1         1    1.82  ...   \n",
       "\n",
       "   Emergency_Admissions_Upto_36_Months_After_PerformedTime  \\\n",
       "0                                                  1         \n",
       "1                                                  1         \n",
       "2                                                  1         \n",
       "3                                                  1         \n",
       "4                                                  1         \n",
       "\n",
       "   Has_Comorbidity_Recorded_on_Spell  Has_Bleeding_Event_(or_Stroke)_on_Spell  \\\n",
       "0                                  1                                        0   \n",
       "1                                  1                                        0   \n",
       "2                                  1                                        0   \n",
       "3                                  1                                        0   \n",
       "4                                  1                                        0   \n",
       "\n",
       "   Has_Stroke_on_Spell  Has_Thrombosis_on_Spell  Treatment_days  \\\n",
       "0                    0                        0            12.0   \n",
       "1                    0                        0            11.0   \n",
       "2                    0                        0            11.0   \n",
       "3                    0                        0            10.0   \n",
       "4                    0                        0            10.0   \n",
       "\n",
       "   EventType_apixaban  EventType_dabigatran  EventType_edoxaban  \\\n",
       "0                   1                     0                   0   \n",
       "1                   1                     0                   0   \n",
       "2                   1                     0                   0   \n",
       "3                   1                     0                   0   \n",
       "4                   1                     0                   0   \n",
       "\n",
       "   EventType_rivaroxaban  \n",
       "0                      0  \n",
       "1                      0  \n",
       "2                      0  \n",
       "3                      0  \n",
       "4                      0  \n",
       "\n",
       "[5 rows x 24 columns]"
      ]
     },
     "execution_count": 34,
     "metadata": {},
     "output_type": "execute_result"
    }
   ],
   "source": [
    "obese_df.head()"
   ]
  },
  {
   "cell_type": "code",
   "execution_count": 35,
   "metadata": {},
   "outputs": [],
   "source": [
    "obese_df.to_csv(\"CLEAN_Obese.csv\", encoding='utf-8')"
   ]
  },
  {
   "cell_type": "code",
   "execution_count": 36,
   "metadata": {},
   "outputs": [
    {
     "data": {
      "text/html": [
       "<div>\n",
       "<style scoped>\n",
       "    .dataframe tbody tr th:only-of-type {\n",
       "        vertical-align: middle;\n",
       "    }\n",
       "\n",
       "    .dataframe tbody tr th {\n",
       "        vertical-align: top;\n",
       "    }\n",
       "\n",
       "    .dataframe thead th {\n",
       "        text-align: right;\n",
       "    }\n",
       "</style>\n",
       "<table border=\"1\" class=\"dataframe\">\n",
       "  <thead>\n",
       "    <tr style=\"text-align: right;\">\n",
       "      <th></th>\n",
       "      <th>Length_Of_Stay</th>\n",
       "      <th>Age_at_Given_Date</th>\n",
       "      <th>EGFR_Result_60_Or_Less</th>\n",
       "      <th>EGFR_Result</th>\n",
       "      <th>Gender</th>\n",
       "      <th>Deceased_in_EPR</th>\n",
       "      <th>Bleeding_Risk</th>\n",
       "      <th>VTE_Risk</th>\n",
       "      <th>Height</th>\n",
       "      <th>Weight</th>\n",
       "      <th>...</th>\n",
       "      <th>Emergency_Admissions_Upto_36_Months_After_PerformedTime</th>\n",
       "      <th>Has_Comorbidity_Recorded_on_Spell</th>\n",
       "      <th>Has_Bleeding_Event_(or_Stroke)_on_Spell</th>\n",
       "      <th>Has_Stroke_on_Spell</th>\n",
       "      <th>Has_Thrombosis_on_Spell</th>\n",
       "      <th>Treatment_days</th>\n",
       "      <th>EventType_apixaban</th>\n",
       "      <th>EventType_dabigatran</th>\n",
       "      <th>EventType_edoxaban</th>\n",
       "      <th>EventType_rivaroxaban</th>\n",
       "    </tr>\n",
       "  </thead>\n",
       "  <tbody>\n",
       "    <tr>\n",
       "      <th>count</th>\n",
       "      <td>29000.000000</td>\n",
       "      <td>29000.000000</td>\n",
       "      <td>29000.000000</td>\n",
       "      <td>29000.000000</td>\n",
       "      <td>29000.000000</td>\n",
       "      <td>29000.000000</td>\n",
       "      <td>29000.000000</td>\n",
       "      <td>29000.000000</td>\n",
       "      <td>29000.000000</td>\n",
       "      <td>29000.000000</td>\n",
       "      <td>...</td>\n",
       "      <td>29000.000000</td>\n",
       "      <td>29000.000000</td>\n",
       "      <td>29000.000000</td>\n",
       "      <td>29000.000000</td>\n",
       "      <td>29000.000000</td>\n",
       "      <td>29000.000000</td>\n",
       "      <td>29000.000000</td>\n",
       "      <td>29000.000000</td>\n",
       "      <td>29000.000000</td>\n",
       "      <td>29000.000000</td>\n",
       "    </tr>\n",
       "    <tr>\n",
       "      <th>mean</th>\n",
       "      <td>27.227724</td>\n",
       "      <td>74.471276</td>\n",
       "      <td>0.474138</td>\n",
       "      <td>63.143337</td>\n",
       "      <td>0.452828</td>\n",
       "      <td>0.406517</td>\n",
       "      <td>0.684897</td>\n",
       "      <td>0.991897</td>\n",
       "      <td>158.457284</td>\n",
       "      <td>99.144646</td>\n",
       "      <td>...</td>\n",
       "      <td>2.440379</td>\n",
       "      <td>0.832379</td>\n",
       "      <td>0.001483</td>\n",
       "      <td>0.135862</td>\n",
       "      <td>0.009172</td>\n",
       "      <td>578.776345</td>\n",
       "      <td>0.830517</td>\n",
       "      <td>0.010552</td>\n",
       "      <td>0.003138</td>\n",
       "      <td>0.155793</td>\n",
       "    </tr>\n",
       "    <tr>\n",
       "      <th>std</th>\n",
       "      <td>25.950215</td>\n",
       "      <td>11.570977</td>\n",
       "      <td>0.499339</td>\n",
       "      <td>24.071716</td>\n",
       "      <td>0.497778</td>\n",
       "      <td>0.491192</td>\n",
       "      <td>0.464565</td>\n",
       "      <td>0.089655</td>\n",
       "      <td>32.673988</td>\n",
       "      <td>131.325475</td>\n",
       "      <td>...</td>\n",
       "      <td>2.967791</td>\n",
       "      <td>0.373536</td>\n",
       "      <td>0.038479</td>\n",
       "      <td>0.342648</td>\n",
       "      <td>0.095334</td>\n",
       "      <td>774.063599</td>\n",
       "      <td>0.375184</td>\n",
       "      <td>0.102180</td>\n",
       "      <td>0.055930</td>\n",
       "      <td>0.362665</td>\n",
       "    </tr>\n",
       "    <tr>\n",
       "      <th>min</th>\n",
       "      <td>0.000000</td>\n",
       "      <td>20.000000</td>\n",
       "      <td>0.000000</td>\n",
       "      <td>0.000000</td>\n",
       "      <td>0.000000</td>\n",
       "      <td>0.000000</td>\n",
       "      <td>0.000000</td>\n",
       "      <td>0.000000</td>\n",
       "      <td>1.480000</td>\n",
       "      <td>6.100000</td>\n",
       "      <td>...</td>\n",
       "      <td>0.000000</td>\n",
       "      <td>0.000000</td>\n",
       "      <td>0.000000</td>\n",
       "      <td>0.000000</td>\n",
       "      <td>0.000000</td>\n",
       "      <td>-35581.000000</td>\n",
       "      <td>0.000000</td>\n",
       "      <td>0.000000</td>\n",
       "      <td>0.000000</td>\n",
       "      <td>0.000000</td>\n",
       "    </tr>\n",
       "    <tr>\n",
       "      <th>25%</th>\n",
       "      <td>7.000000</td>\n",
       "      <td>68.000000</td>\n",
       "      <td>0.000000</td>\n",
       "      <td>44.000000</td>\n",
       "      <td>0.000000</td>\n",
       "      <td>0.000000</td>\n",
       "      <td>0.000000</td>\n",
       "      <td>1.000000</td>\n",
       "      <td>156.000000</td>\n",
       "      <td>83.000000</td>\n",
       "      <td>...</td>\n",
       "      <td>1.000000</td>\n",
       "      <td>1.000000</td>\n",
       "      <td>0.000000</td>\n",
       "      <td>0.000000</td>\n",
       "      <td>0.000000</td>\n",
       "      <td>135.000000</td>\n",
       "      <td>1.000000</td>\n",
       "      <td>0.000000</td>\n",
       "      <td>0.000000</td>\n",
       "      <td>0.000000</td>\n",
       "    </tr>\n",
       "    <tr>\n",
       "      <th>50%</th>\n",
       "      <td>20.000000</td>\n",
       "      <td>77.000000</td>\n",
       "      <td>0.000000</td>\n",
       "      <td>62.000000</td>\n",
       "      <td>0.000000</td>\n",
       "      <td>0.000000</td>\n",
       "      <td>1.000000</td>\n",
       "      <td>1.000000</td>\n",
       "      <td>164.000000</td>\n",
       "      <td>93.300000</td>\n",
       "      <td>...</td>\n",
       "      <td>2.000000</td>\n",
       "      <td>1.000000</td>\n",
       "      <td>0.000000</td>\n",
       "      <td>0.000000</td>\n",
       "      <td>0.000000</td>\n",
       "      <td>500.000000</td>\n",
       "      <td>1.000000</td>\n",
       "      <td>0.000000</td>\n",
       "      <td>0.000000</td>\n",
       "      <td>0.000000</td>\n",
       "    </tr>\n",
       "    <tr>\n",
       "      <th>75%</th>\n",
       "      <td>37.000000</td>\n",
       "      <td>83.000000</td>\n",
       "      <td>1.000000</td>\n",
       "      <td>82.000000</td>\n",
       "      <td>1.000000</td>\n",
       "      <td>1.000000</td>\n",
       "      <td>1.000000</td>\n",
       "      <td>1.000000</td>\n",
       "      <td>172.000000</td>\n",
       "      <td>107.200000</td>\n",
       "      <td>...</td>\n",
       "      <td>3.000000</td>\n",
       "      <td>1.000000</td>\n",
       "      <td>0.000000</td>\n",
       "      <td>0.000000</td>\n",
       "      <td>0.000000</td>\n",
       "      <td>961.000000</td>\n",
       "      <td>1.000000</td>\n",
       "      <td>0.000000</td>\n",
       "      <td>0.000000</td>\n",
       "      <td>0.000000</td>\n",
       "    </tr>\n",
       "    <tr>\n",
       "      <th>max</th>\n",
       "      <td>131.000000</td>\n",
       "      <td>101.000000</td>\n",
       "      <td>1.000000</td>\n",
       "      <td>112.000000</td>\n",
       "      <td>1.000000</td>\n",
       "      <td>1.000000</td>\n",
       "      <td>1.000000</td>\n",
       "      <td>1.000000</td>\n",
       "      <td>208.000000</td>\n",
       "      <td>9030.000000</td>\n",
       "      <td>...</td>\n",
       "      <td>31.000000</td>\n",
       "      <td>1.000000</td>\n",
       "      <td>1.000000</td>\n",
       "      <td>1.000000</td>\n",
       "      <td>1.000000</td>\n",
       "      <td>1637.000000</td>\n",
       "      <td>1.000000</td>\n",
       "      <td>1.000000</td>\n",
       "      <td>1.000000</td>\n",
       "      <td>1.000000</td>\n",
       "    </tr>\n",
       "  </tbody>\n",
       "</table>\n",
       "<p>8 rows × 23 columns</p>\n",
       "</div>"
      ],
      "text/plain": [
       "       Length_Of_Stay  Age_at_Given_Date  EGFR_Result_60_Or_Less  \\\n",
       "count    29000.000000       29000.000000            29000.000000   \n",
       "mean        27.227724          74.471276                0.474138   \n",
       "std         25.950215          11.570977                0.499339   \n",
       "min          0.000000          20.000000                0.000000   \n",
       "25%          7.000000          68.000000                0.000000   \n",
       "50%         20.000000          77.000000                0.000000   \n",
       "75%         37.000000          83.000000                1.000000   \n",
       "max        131.000000         101.000000                1.000000   \n",
       "\n",
       "        EGFR_Result        Gender  Deceased_in_EPR  Bleeding_Risk  \\\n",
       "count  29000.000000  29000.000000     29000.000000   29000.000000   \n",
       "mean      63.143337      0.452828         0.406517       0.684897   \n",
       "std       24.071716      0.497778         0.491192       0.464565   \n",
       "min        0.000000      0.000000         0.000000       0.000000   \n",
       "25%       44.000000      0.000000         0.000000       0.000000   \n",
       "50%       62.000000      0.000000         0.000000       1.000000   \n",
       "75%       82.000000      1.000000         1.000000       1.000000   \n",
       "max      112.000000      1.000000         1.000000       1.000000   \n",
       "\n",
       "           VTE_Risk        Height        Weight  ...  \\\n",
       "count  29000.000000  29000.000000  29000.000000  ...   \n",
       "mean       0.991897    158.457284     99.144646  ...   \n",
       "std        0.089655     32.673988    131.325475  ...   \n",
       "min        0.000000      1.480000      6.100000  ...   \n",
       "25%        1.000000    156.000000     83.000000  ...   \n",
       "50%        1.000000    164.000000     93.300000  ...   \n",
       "75%        1.000000    172.000000    107.200000  ...   \n",
       "max        1.000000    208.000000   9030.000000  ...   \n",
       "\n",
       "       Emergency_Admissions_Upto_36_Months_After_PerformedTime  \\\n",
       "count                                       29000.000000         \n",
       "mean                                            2.440379         \n",
       "std                                             2.967791         \n",
       "min                                             0.000000         \n",
       "25%                                             1.000000         \n",
       "50%                                             2.000000         \n",
       "75%                                             3.000000         \n",
       "max                                            31.000000         \n",
       "\n",
       "       Has_Comorbidity_Recorded_on_Spell  \\\n",
       "count                       29000.000000   \n",
       "mean                            0.832379   \n",
       "std                             0.373536   \n",
       "min                             0.000000   \n",
       "25%                             1.000000   \n",
       "50%                             1.000000   \n",
       "75%                             1.000000   \n",
       "max                             1.000000   \n",
       "\n",
       "       Has_Bleeding_Event_(or_Stroke)_on_Spell  Has_Stroke_on_Spell  \\\n",
       "count                             29000.000000         29000.000000   \n",
       "mean                                  0.001483             0.135862   \n",
       "std                                   0.038479             0.342648   \n",
       "min                                   0.000000             0.000000   \n",
       "25%                                   0.000000             0.000000   \n",
       "50%                                   0.000000             0.000000   \n",
       "75%                                   0.000000             0.000000   \n",
       "max                                   1.000000             1.000000   \n",
       "\n",
       "       Has_Thrombosis_on_Spell  Treatment_days  EventType_apixaban  \\\n",
       "count             29000.000000    29000.000000        29000.000000   \n",
       "mean                  0.009172      578.776345            0.830517   \n",
       "std                   0.095334      774.063599            0.375184   \n",
       "min                   0.000000   -35581.000000            0.000000   \n",
       "25%                   0.000000      135.000000            1.000000   \n",
       "50%                   0.000000      500.000000            1.000000   \n",
       "75%                   0.000000      961.000000            1.000000   \n",
       "max                   1.000000     1637.000000            1.000000   \n",
       "\n",
       "       EventType_dabigatran  EventType_edoxaban  EventType_rivaroxaban  \n",
       "count          29000.000000        29000.000000           29000.000000  \n",
       "mean               0.010552            0.003138               0.155793  \n",
       "std                0.102180            0.055930               0.362665  \n",
       "min                0.000000            0.000000               0.000000  \n",
       "25%                0.000000            0.000000               0.000000  \n",
       "50%                0.000000            0.000000               0.000000  \n",
       "75%                0.000000            0.000000               0.000000  \n",
       "max                1.000000            1.000000               1.000000  \n",
       "\n",
       "[8 rows x 23 columns]"
      ]
     },
     "execution_count": 36,
     "metadata": {},
     "output_type": "execute_result"
    }
   ],
   "source": [
    "obese_df.describe()"
   ]
  },
  {
   "cell_type": "markdown",
   "metadata": {},
   "source": [
    "### Pair Plots"
   ]
  },
  {
   "cell_type": "code",
   "execution_count": 37,
   "metadata": {},
   "outputs": [],
   "source": [
    "#g = sns.pairplot(obese_df, hue='EventType', markers='+')\n",
    "#g._legend.get_title().set_fontsize(20)\n",
    "#plt.show()"
   ]
  },
  {
   "cell_type": "markdown",
   "metadata": {},
   "source": [
    "### Correlation Analysis "
   ]
  },
  {
   "cell_type": "code",
   "execution_count": 38,
   "metadata": {},
   "outputs": [
    {
     "data": {
      "text/plain": [
       "<AxesSubplot:>"
      ]
     },
     "execution_count": 38,
     "metadata": {},
     "output_type": "execute_result"
    },
    {
     "data": {
      "image/png": "[encoded data removed]",
      "text/plain": [
       "<Figure size 864x720 with 2 Axes>"
      ]
     },
     "metadata": {
      "needs_background": "light"
     },
     "output_type": "display_data"
    }
   ],
   "source": [
    "corr_matrix = obese_df.corr()\n",
    "plt.figure(figsize=(12, 10)) ### Setting the size of the plot\n",
    "sns.heatmap(data = corr_matrix,cmap='BrBG', annot=True, linewidths=0.2)"
   ]
  },
  {
   "cell_type": "code",
   "execution_count": 39,
   "metadata": {},
   "outputs": [
    {
     "data": {
      "text/plain": [
       "Index(['Length_Of_Stay', 'Age_at_Given_Date', 'AC_Amount',\n",
       "       'EGFR_Result_60_Or_Less', 'EGFR_Result', 'Gender', 'Deceased_in_EPR',\n",
       "       'Bleeding_Risk', 'VTE_Risk', 'Height', 'Weight', 'Calculated_BMI',\n",
       "       'Actual_BMI', 'BMI_Flag',\n",
       "       'Emergency_Admissions_Upto_36_Months_After_PerformedTime',\n",
       "       'Has_Comorbidity_Recorded_on_Spell',\n",
       "       'Has_Bleeding_Event_(or_Stroke)_on_Spell', 'Has_Stroke_on_Spell',\n",
       "       'Has_Thrombosis_on_Spell', 'Treatment_days', 'EventType_apixaban',\n",
       "       'EventType_dabigatran', 'EventType_edoxaban', 'EventType_rivaroxaban'],\n",
       "      dtype='object')"
      ]
     },
     "execution_count": 39,
     "metadata": {},
     "output_type": "execute_result"
    }
   ],
   "source": [
    "obese_df.columns"
   ]
  },
  {
   "cell_type": "code",
   "execution_count": 40,
   "metadata": {},
   "outputs": [],
   "source": [
    "X = obese_df[['Length_Of_Stay', 'Age_at_Given_Date',\n",
    "       'EGFR_Result_60_Or_Less', 'EGFR_Result', 'Gender', 'Deceased_in_EPR',\n",
    "       'Bleeding_Risk', 'VTE_Risk', 'Height', 'Weight', 'Calculated_BMI',\n",
    "       'Actual_BMI', 'BMI_Flag',\n",
    "       'Emergency_Admissions_Upto_36_Months_After_PerformedTime',\n",
    "       'Has_Comorbidity_Recorded_on_Spell',\n",
    "       'Has_Bleeding_Event_(or_Stroke)_on_Spell', 'Has_Stroke_on_Spell',\n",
    "       'Has_Thrombosis_on_Spell', 'Treatment_days', 'EventType_apixaban',\n",
    "       'EventType_dabigatran', 'EventType_edoxaban', 'EventType_rivaroxaban']]\n",
    "y = obese_df[['AC_Amount']]"
   ]
  },
  {
   "cell_type": "markdown",
   "metadata": {},
   "source": [
    "## Data Normalization\n",
    "Normalization refers to rescaling real valued numeric attributes into the range 0 and 1."
   ]
  },
  {
   "cell_type": "code",
   "execution_count": 41,
   "metadata": {},
   "outputs": [
    {
     "name": "stdout",
     "output_type": "stream",
     "text": [
      "[[0.23523767 0.65082423 0.00784126 0.42342781 0.00784126 0.00784126\n",
      "  0.00784126 0.00784126 0.01427109 0.53006889 0.16002563 0.16002435\n",
      "  0.00784126 0.00784126 0.00784126 0.         0.         0.\n",
      "  0.09409507 0.00784126 0.         0.         0.        ]\n",
      " [0.23540418 0.65128491 0.00784681 0.42372753 0.00784681 0.00784681\n",
      "  0.00784681 0.00784681 0.01428119 0.53044409 0.1601389  0.16013762\n",
      "  0.00784681 0.00784681 0.00784681 0.         0.         0.\n",
      "  0.08631487 0.00784681 0.         0.         0.        ]]\n"
     ]
    }
   ],
   "source": [
    "normalized_X = preprocessing.normalize(X)\n",
    "print(normalized_X[0:2])"
   ]
  },
  {
   "cell_type": "markdown",
   "metadata": {},
   "source": [
    "## Data Standardization\n",
    "Standardization refers to shifting the distribution of each attribute to have a mean of zero and a standard deviation of one (unit variance)."
   ]
  },
  {
   "cell_type": "code",
   "execution_count": 42,
   "metadata": {},
   "outputs": [
    {
     "name": "stdout",
     "output_type": "stream",
     "text": [
      "[[ 0.1068324   0.73709169  1.05313385 -0.37984388  1.09924794  1.2082716\n",
      "   0.67828793  0.09038612 -4.79402713 -0.24020617 -0.07292892 -0.15108648\n",
      "   0.         -0.48534554  0.44874867 -0.03853518 -0.39651313 -0.096215\n",
      "  -0.73222164  0.45173988 -0.10326786 -0.05610534 -0.42958555]\n",
      " [ 0.1068324   0.73709169  1.05313385 -0.37984388  1.09924794  1.2082716\n",
      "   0.67828793  0.09038612 -4.79402713 -0.24020617 -0.07292892 -0.15108648\n",
      "   0.         -0.48534554  0.44874867 -0.03853518 -0.39651313 -0.096215\n",
      "  -0.73351355  0.45173988 -0.10326786 -0.05610534 -0.42958555]]\n"
     ]
    }
   ],
   "source": [
    "standardized_X = preprocessing.scale(X)\n",
    "print(standardized_X[0:2])"
   ]
  },
  {
   "cell_type": "markdown",
   "metadata": {},
   "source": [
    "# Feature Engineering"
   ]
  },
  {
   "cell_type": "markdown",
   "metadata": {},
   "source": [
    "### Looking for any null/missing values in the data set"
   ]
  },
  {
   "cell_type": "code",
   "execution_count": 43,
   "metadata": {},
   "outputs": [
    {
     "name": "stdout",
     "output_type": "stream",
     "text": [
      "Length_Of_Stay                                             False\n",
      "Age_at_Given_Date                                          False\n",
      "AC_Amount                                                  False\n",
      "EGFR_Result_60_Or_Less                                     False\n",
      "EGFR_Result                                                False\n",
      "Gender                                                     False\n",
      "Deceased_in_EPR                                            False\n",
      "Bleeding_Risk                                              False\n",
      "VTE_Risk                                                   False\n",
      "Height                                                     False\n",
      "Weight                                                     False\n",
      "Calculated_BMI                                             False\n",
      "Actual_BMI                                                 False\n",
      "BMI_Flag                                                   False\n",
      "Emergency_Admissions_Upto_36_Months_After_PerformedTime    False\n",
      "Has_Comorbidity_Recorded_on_Spell                          False\n",
      "Has_Bleeding_Event_(or_Stroke)_on_Spell                    False\n",
      "Has_Stroke_on_Spell                                        False\n",
      "Has_Thrombosis_on_Spell                                    False\n",
      "Treatment_days                                             False\n",
      "EventType_apixaban                                         False\n",
      "EventType_dabigatran                                       False\n",
      "EventType_edoxaban                                         False\n",
      "EventType_rivaroxaban                                      False\n",
      "dtype: bool\n"
     ]
    }
   ],
   "source": [
    "print(obese_df.isnull().any())"
   ]
  },
  {
   "cell_type": "markdown",
   "metadata": {},
   "source": [
    "No need of Feature imputation as there is no missing values."
   ]
  },
  {
   "cell_type": "markdown",
   "metadata": {},
   "source": [
    "## Outlier Detection"
   ]
  },
  {
   "cell_type": "code",
   "execution_count": 44,
   "metadata": {},
   "outputs": [
    {
     "data": {
      "text/plain": [
       "<AxesSubplot:>"
      ]
     },
     "execution_count": 44,
     "metadata": {},
     "output_type": "execute_result"
    },
    {
     "data": {
      "image/png": "[encoded data removed]",
      "text/plain": [
       "<Figure size 432x288 with 1 Axes>"
      ]
     },
     "metadata": {
      "needs_background": "light"
     },
     "output_type": "display_data"
    }
   ],
   "source": [
    "sns.boxplot(data=standardized_X, orient=\"v\", palette=\"Set2\")"
   ]
  },
  {
   "cell_type": "code",
   "execution_count": 45,
   "metadata": {},
   "outputs": [
    {
     "data": {
      "text/plain": [
       "<AxesSubplot:>"
      ]
     },
     "execution_count": 45,
     "metadata": {},
     "output_type": "execute_result"
    },
    {
     "data": {
      "image/png": "[encoded data removed]",
      "text/plain": [
       "<Figure size 432x288 with 1 Axes>"
      ]
     },
     "metadata": {
      "needs_background": "light"
     },
     "output_type": "display_data"
    }
   ],
   "source": [
    "sns.boxplot(data=normalized_X, orient=\"v\", palette=\"Set2\")"
   ]
  },
  {
   "cell_type": "markdown",
   "metadata": {},
   "source": [
    "# Classifiers"
   ]
  },
  {
   "cell_type": "markdown",
   "metadata": {},
   "source": [
    "## 1. Decision Trees"
   ]
  },
  {
   "cell_type": "code",
   "execution_count": 48,
   "metadata": {},
   "outputs": [],
   "source": [
    "\n",
    "from sklearn.tree import DecisionTreeClassifier\n",
    "from sklearn.model_selection import train_test_split\n",
    "from sklearn.metrics import confusion_matrix, classification_report\n",
    "from sklearn import metrics\n",
    "from sklearn.tree import export_graphviz\n"
   ]
  },
  {
   "cell_type": "code",
   "execution_count": 49,
   "metadata": {},
   "outputs": [
    {
     "name": "stdout",
     "output_type": "stream",
     "text": [
      "Data Accuracy:  0.975287356321839\n",
      "Normalised data Accuracy:  0.9671264367816091\n",
      "Standardised Accuracy:  0.9747126436781609\n"
     ]
    }
   ],
   "source": [
    "########################################## Using Normal Data\n",
    "# train test split\n",
    "X_train, X_test, y_train, y_test = train_test_split(X, y,test_size=0.3, random_state=1,stratify=y)\n",
    "# decision tree construction \n",
    "dt = DecisionTreeClassifier(criterion = 'entropy', random_state=1)\n",
    "result_DT= dt.fit(X_train, y_train)\n",
    "#pridiction\n",
    "y_pred = dt.predict(X_test)\n",
    "#accuracy\n",
    "data_accuracy = metrics.accuracy_score(y_test, y_pred)\n",
    "print(\"Data Accuracy: \",data_accuracy)\n",
    "########################################## Using Normalised Data\n",
    "# train test split\n",
    "X_train, X_test, y_train, y_test = train_test_split(normalized_X, y,test_size=0.3, random_state=1,stratify=y)\n",
    "# decision tree construction \n",
    "dt = DecisionTreeClassifier(criterion = 'entropy', random_state=1)\n",
    "result_DT= dt.fit(X_train, y_train)\n",
    "#pridiction\n",
    "y_pred = dt.predict(X_test)\n",
    "#accuracy\n",
    "data_accuracy = metrics.accuracy_score(y_test, y_pred)\n",
    "print(\"Normalised data Accuracy: \",data_accuracy)\n",
    "########################################## Using Standardised Data\n",
    "# train test split\n",
    "X_train, X_test, y_train, y_test = train_test_split(standardized_X, y,test_size=0.3, random_state=1,stratify=y)\n",
    "# decision tree construction \n",
    "dt = DecisionTreeClassifier(criterion = 'entropy', random_state=1)\n",
    "result_DT= dt.fit(X_train, y_train)\n",
    "#pridiction\n",
    "y_pred = dt.predict(X_test)\n",
    "#accuracy\n",
    "data_accuracy = metrics.accuracy_score(y_test, y_pred)\n",
    "print(\"Standardised Accuracy: \",data_accuracy)"
   ]
  },
  {
   "cell_type": "code",
   "execution_count": 50,
   "metadata": {},
   "outputs": [
    {
     "name": "stdout",
     "output_type": "stream",
     "text": [
      "                precision    recall  f1-score   support\n",
      "\n",
      "  apixaban_2.5       0.93      0.93      0.93       208\n",
      "    apixaban_5       0.98      0.98      0.98      3061\n",
      "   apixaban_10       0.98      0.98      0.98      3956\n",
      "rivaroxaban_10       1.00      1.00      1.00        64\n",
      "rivaroxaban_15       1.00      0.96      0.98        28\n",
      "rivaroxaban_20       0.50      1.00      0.67         1\n",
      "   edoxaban_30       1.00      1.00      1.00        14\n",
      "   edoxaban_60       1.00      1.00      1.00        13\n",
      " dabigatran_75       0.71      0.89      0.79        62\n",
      "dabigatran_110       0.95      0.96      0.95       555\n",
      "dabigatran_150       0.97      0.95      0.96       738\n",
      "\n",
      "      accuracy                           0.97      8700\n",
      "     macro avg       0.91      0.97      0.93      8700\n",
      "  weighted avg       0.98      0.97      0.97      8700\n",
      "\n"
     ]
    }
   ],
   "source": [
    "namez =  [\"apixaban_2.5\",\"apixaban_5\", \"apixaban_10\",\"rivaroxaban_10\", \"rivaroxaban_15\",\"rivaroxaban_20\",\n",
    "          \"edoxaban_30\", \"edoxaban_60\",\"dabigatran_75\", \"dabigatran_110\", \"dabigatran_150\"]\n",
    "print(metrics.classification_report(y_test, y_pred, target_names=namez, digits=2,output_dict=False)) \n"
   ]
  },
  {
   "cell_type": "code",
   "execution_count": 51,
   "metadata": {},
   "outputs": [
    {
     "name": "stdout",
     "output_type": "stream",
     "text": [
      "Confusion Matrix\n",
      "[[ 193    2   13    0    0    0    0    0    0    0    0]\n",
      " [   4 2995   62    0    0    0    0    0    0    0    0]\n",
      " [  10   60 3886    0    0    0    0    0    0    0    0]\n",
      " [   0    0    0   64    0    0    0    0    0    0    0]\n",
      " [   0    0    0    0   27    1    0    0    0    0    0]\n",
      " [   0    0    0    0    0    1    0    0    0    0    0]\n",
      " [   0    0    0    0    0    0   14    0    0    0    0]\n",
      " [   0    0    0    0    0    0    0   13    0    0    0]\n",
      " [   0    0    0    0    0    0    0    0   55    3    4]\n",
      " [   0    0    0    0    0    0    0    0   10  531   14]\n",
      " [   0    0    0    0    0    0    0    0   12   25  701]]\n"
     ]
    }
   ],
   "source": [
    "#confusion matrix\n",
    "print('Confusion Matrix')\n",
    "#species = np.array(y_test).argmax(axis=1)\n",
    "#predictions = np.array(y_pred).argmax(axis=1)\n",
    "#print(confusion_matrix(species, predictions))\n",
    "\n",
    "print(confusion_matrix(y_test, y_pred))"
   ]
  },
  {
   "cell_type": "code",
   "execution_count": 52,
   "metadata": {},
   "outputs": [
    {
     "name": "stdout",
     "output_type": "stream",
     "text": [
      "Variable importacne in the classifier.\n"
     ]
    },
    {
     "data": {
      "text/html": [
       "<div>\n",
       "<style scoped>\n",
       "    .dataframe tbody tr th:only-of-type {\n",
       "        vertical-align: middle;\n",
       "    }\n",
       "\n",
       "    .dataframe tbody tr th {\n",
       "        vertical-align: top;\n",
       "    }\n",
       "\n",
       "    .dataframe thead th {\n",
       "        text-align: right;\n",
       "    }\n",
       "</style>\n",
       "<table border=\"1\" class=\"dataframe\">\n",
       "  <thead>\n",
       "    <tr style=\"text-align: right;\">\n",
       "      <th></th>\n",
       "      <th>variable</th>\n",
       "      <th>importance</th>\n",
       "    </tr>\n",
       "  </thead>\n",
       "  <tbody>\n",
       "    <tr>\n",
       "      <th>19</th>\n",
       "      <td>EventType_apixaban</td>\n",
       "      <td>0.347803</td>\n",
       "    </tr>\n",
       "    <tr>\n",
       "      <th>3</th>\n",
       "      <td>EGFR_Result</td>\n",
       "      <td>0.089862</td>\n",
       "    </tr>\n",
       "    <tr>\n",
       "      <th>18</th>\n",
       "      <td>Treatment_days</td>\n",
       "      <td>0.087242</td>\n",
       "    </tr>\n",
       "    <tr>\n",
       "      <th>0</th>\n",
       "      <td>Age_at_Given_Date</td>\n",
       "      <td>0.081828</td>\n",
       "    </tr>\n",
       "    <tr>\n",
       "      <th>1</th>\n",
       "      <td>AC_Amount</td>\n",
       "      <td>0.079690</td>\n",
       "    </tr>\n",
       "    <tr>\n",
       "      <th>8</th>\n",
       "      <td>Height</td>\n",
       "      <td>0.057290</td>\n",
       "    </tr>\n",
       "    <tr>\n",
       "      <th>13</th>\n",
       "      <td>Emergency_Admissions_Upto_36_Months_After_Perf...</td>\n",
       "      <td>0.048547</td>\n",
       "    </tr>\n",
       "    <tr>\n",
       "      <th>9</th>\n",
       "      <td>Weight</td>\n",
       "      <td>0.042542</td>\n",
       "    </tr>\n",
       "    <tr>\n",
       "      <th>11</th>\n",
       "      <td>Actual_BMI</td>\n",
       "      <td>0.036865</td>\n",
       "    </tr>\n",
       "    <tr>\n",
       "      <th>22</th>\n",
       "      <td>EventType_rivaroxaban</td>\n",
       "      <td>0.036273</td>\n",
       "    </tr>\n",
       "    <tr>\n",
       "      <th>10</th>\n",
       "      <td>Calculated_BMI</td>\n",
       "      <td>0.030135</td>\n",
       "    </tr>\n",
       "    <tr>\n",
       "      <th>16</th>\n",
       "      <td>Has_Stroke_on_Spell</td>\n",
       "      <td>0.019170</td>\n",
       "    </tr>\n",
       "    <tr>\n",
       "      <th>6</th>\n",
       "      <td>Bleeding_Risk</td>\n",
       "      <td>0.016042</td>\n",
       "    </tr>\n",
       "    <tr>\n",
       "      <th>14</th>\n",
       "      <td>Has_Comorbidity_Recorded_on_Spell</td>\n",
       "      <td>0.007152</td>\n",
       "    </tr>\n",
       "    <tr>\n",
       "      <th>4</th>\n",
       "      <td>Gender</td>\n",
       "      <td>0.006080</td>\n",
       "    </tr>\n",
       "    <tr>\n",
       "      <th>20</th>\n",
       "      <td>EventType_dabigatran</td>\n",
       "      <td>0.005638</td>\n",
       "    </tr>\n",
       "    <tr>\n",
       "      <th>5</th>\n",
       "      <td>Deceased_in_EPR</td>\n",
       "      <td>0.004453</td>\n",
       "    </tr>\n",
       "    <tr>\n",
       "      <th>2</th>\n",
       "      <td>EGFR_Result_60_Or_Less</td>\n",
       "      <td>0.001684</td>\n",
       "    </tr>\n",
       "    <tr>\n",
       "      <th>7</th>\n",
       "      <td>VTE_Risk</td>\n",
       "      <td>0.001624</td>\n",
       "    </tr>\n",
       "    <tr>\n",
       "      <th>17</th>\n",
       "      <td>Has_Thrombosis_on_Spell</td>\n",
       "      <td>0.000081</td>\n",
       "    </tr>\n",
       "    <tr>\n",
       "      <th>12</th>\n",
       "      <td>BMI_Flag</td>\n",
       "      <td>0.000000</td>\n",
       "    </tr>\n",
       "    <tr>\n",
       "      <th>15</th>\n",
       "      <td>Has_Bleeding_Event_(or_Stroke)_on_Spell</td>\n",
       "      <td>0.000000</td>\n",
       "    </tr>\n",
       "    <tr>\n",
       "      <th>21</th>\n",
       "      <td>EventType_edoxaban</td>\n",
       "      <td>0.000000</td>\n",
       "    </tr>\n",
       "  </tbody>\n",
       "</table>\n",
       "</div>"
      ],
      "text/plain": [
       "                                             variable  importance\n",
       "19                                 EventType_apixaban    0.347803\n",
       "3                                         EGFR_Result    0.089862\n",
       "18                                     Treatment_days    0.087242\n",
       "0                                   Age_at_Given_Date    0.081828\n",
       "1                                           AC_Amount    0.079690\n",
       "8                                              Height    0.057290\n",
       "13  Emergency_Admissions_Upto_36_Months_After_Perf...    0.048547\n",
       "9                                              Weight    0.042542\n",
       "11                                         Actual_BMI    0.036865\n",
       "22                              EventType_rivaroxaban    0.036273\n",
       "10                                     Calculated_BMI    0.030135\n",
       "16                                Has_Stroke_on_Spell    0.019170\n",
       "6                                       Bleeding_Risk    0.016042\n",
       "14                  Has_Comorbidity_Recorded_on_Spell    0.007152\n",
       "4                                              Gender    0.006080\n",
       "20                               EventType_dabigatran    0.005638\n",
       "5                                     Deceased_in_EPR    0.004453\n",
       "2                              EGFR_Result_60_Or_Less    0.001684\n",
       "7                                            VTE_Risk    0.001624\n",
       "17                            Has_Thrombosis_on_Spell    0.000081\n",
       "12                                           BMI_Flag    0.000000\n",
       "15            Has_Bleeding_Event_(or_Stroke)_on_Spell    0.000000\n",
       "21                                 EventType_edoxaban    0.000000"
      ]
     },
     "execution_count": 52,
     "metadata": {},
     "output_type": "execute_result"
    }
   ],
   "source": [
    "# Variable importance in classifier\n",
    "print(\"Variable importacne in the classifier.\")\n",
    "pd.concat((pd.DataFrame(obese_df.iloc[:, 1:].columns, columns = ['variable']), \n",
    "           pd.DataFrame(result_DT.feature_importances_, columns = ['importance'])), \n",
    "          axis = 1).sort_values(by='importance', ascending = False)"
   ]
  },
  {
   "cell_type": "markdown",
   "metadata": {},
   "source": [
    "### Tree Visualization "
   ]
  },
  {
   "cell_type": "code",
   "execution_count": 53,
   "metadata": {},
   "outputs": [
    {
     "name": "stdout",
     "output_type": "stream",
     "text": [
      "['MRN', 'PersonSK', 'EncounterSK', 'Length_Of_Stay', 'EventSk', 'Age_at_Given_Date', 'EGFR_Result_60_Or_Less', 'EGFR_Result', 'Gender', 'Deceased_in_EPR', 'Bleeding_Risk', 'VTE_Risk', 'Height', 'Weight', 'Calculated_BMI', 'Actual_BMI', 'BMI_Flag', 'Emergency_Admissions_Upto_36_Months_After_PerformedTime', 'Has_Comorbidity_Recorded_on_Spell', 'Has_Bleeding_Event_(or_Stroke)_on_Spell', 'Has_Stroke_on_Spell', 'Has_Thrombosis_on_Spell', 'EventType_apixaban', 'EventType_dabigatran', 'EventType_edoxaban', 'EventType_rivaroxaban']\n",
      "26\n"
     ]
    },
    {
     "ename": "IndexError",
     "evalue": "list index out of range",
     "output_type": "error",
     "traceback": [
      "\u001b[1;31m---------------------------------------------------------------------------\u001b[0m",
      "\u001b[1;31mIndexError\u001b[0m                                Traceback (most recent call last)",
      "Input \u001b[1;32mIn [53]\u001b[0m, in \u001b[0;36m<module>\u001b[1;34m\u001b[0m\n\u001b[0;32m     13\u001b[0m output_features \u001b[38;5;241m=\u001b[39m [\u001b[38;5;124m'\u001b[39m\u001b[38;5;124mAC_Amount\u001b[39m\u001b[38;5;124m'\u001b[39m]\n\u001b[0;32m     14\u001b[0m fig \u001b[38;5;241m=\u001b[39m plt\u001b[38;5;241m.\u001b[39mfigure(figsize\u001b[38;5;241m=\u001b[39m(\u001b[38;5;241m25\u001b[39m,\u001b[38;5;241m20\u001b[39m))\n\u001b[1;32m---> 15\u001b[0m _ \u001b[38;5;241m=\u001b[39m \u001b[43mtree\u001b[49m\u001b[38;5;241;43m.\u001b[39;49m\u001b[43mplot_tree\u001b[49m\u001b[43m(\u001b[49m\u001b[43mresult_DT\u001b[49m\u001b[43m,\u001b[49m\u001b[43m \u001b[49m\n\u001b[0;32m     16\u001b[0m \u001b[43m                   \u001b[49m\u001b[43mfeature_names\u001b[49m\u001b[38;5;241;43m=\u001b[39;49m\u001b[43minput_features\u001b[49m\u001b[43m,\u001b[49m\u001b[43m  \u001b[49m\n\u001b[0;32m     17\u001b[0m \u001b[43m                   \u001b[49m\u001b[43mclass_names\u001b[49m\u001b[38;5;241;43m=\u001b[39;49m\u001b[43moutput_features\u001b[49m\u001b[43m,\u001b[49m\n\u001b[0;32m     18\u001b[0m \u001b[43m                   \u001b[49m\u001b[43mfilled\u001b[49m\u001b[38;5;241;43m=\u001b[39;49m\u001b[38;5;28;43;01mTrue\u001b[39;49;00m\u001b[43m)\u001b[49m\n",
      "File \u001b[1;32mD:\\Ayub_Ansari_PhD_Experiments\\Dr_Shahzad_Colab\\ve_dr_shahzad\\lib\\site-packages\\sklearn\\tree\\_export.py:195\u001b[0m, in \u001b[0;36mplot_tree\u001b[1;34m(decision_tree, max_depth, feature_names, class_names, label, filled, impurity, node_ids, proportion, rounded, precision, ax, fontsize)\u001b[0m\n\u001b[0;32m    180\u001b[0m check_is_fitted(decision_tree)\n\u001b[0;32m    182\u001b[0m exporter \u001b[38;5;241m=\u001b[39m _MPLTreeExporter(\n\u001b[0;32m    183\u001b[0m     max_depth\u001b[38;5;241m=\u001b[39mmax_depth,\n\u001b[0;32m    184\u001b[0m     feature_names\u001b[38;5;241m=\u001b[39mfeature_names,\n\u001b[1;32m   (...)\u001b[0m\n\u001b[0;32m    193\u001b[0m     fontsize\u001b[38;5;241m=\u001b[39mfontsize,\n\u001b[0;32m    194\u001b[0m )\n\u001b[1;32m--> 195\u001b[0m \u001b[38;5;28;01mreturn\u001b[39;00m \u001b[43mexporter\u001b[49m\u001b[38;5;241;43m.\u001b[39;49m\u001b[43mexport\u001b[49m\u001b[43m(\u001b[49m\u001b[43mdecision_tree\u001b[49m\u001b[43m,\u001b[49m\u001b[43m \u001b[49m\u001b[43max\u001b[49m\u001b[38;5;241;43m=\u001b[39;49m\u001b[43max\u001b[49m\u001b[43m)\u001b[49m\n",
      "File \u001b[1;32mD:\\Ayub_Ansari_PhD_Experiments\\Dr_Shahzad_Colab\\ve_dr_shahzad\\lib\\site-packages\\sklearn\\tree\\_export.py:656\u001b[0m, in \u001b[0;36m_MPLTreeExporter.export\u001b[1;34m(self, decision_tree, ax)\u001b[0m\n\u001b[0;32m    654\u001b[0m ax\u001b[38;5;241m.\u001b[39mclear()\n\u001b[0;32m    655\u001b[0m ax\u001b[38;5;241m.\u001b[39mset_axis_off()\n\u001b[1;32m--> 656\u001b[0m my_tree \u001b[38;5;241m=\u001b[39m \u001b[38;5;28;43mself\u001b[39;49m\u001b[38;5;241;43m.\u001b[39;49m\u001b[43m_make_tree\u001b[49m\u001b[43m(\u001b[49m\u001b[38;5;241;43m0\u001b[39;49m\u001b[43m,\u001b[49m\u001b[43m \u001b[49m\u001b[43mdecision_tree\u001b[49m\u001b[38;5;241;43m.\u001b[39;49m\u001b[43mtree_\u001b[49m\u001b[43m,\u001b[49m\u001b[43m \u001b[49m\u001b[43mdecision_tree\u001b[49m\u001b[38;5;241;43m.\u001b[39;49m\u001b[43mcriterion\u001b[49m\u001b[43m)\u001b[49m\n\u001b[0;32m    657\u001b[0m draw_tree \u001b[38;5;241m=\u001b[39m buchheim(my_tree)\n\u001b[0;32m    659\u001b[0m \u001b[38;5;66;03m# important to make sure we're still\u001b[39;00m\n\u001b[0;32m    660\u001b[0m \u001b[38;5;66;03m# inside the axis after drawing the box\u001b[39;00m\n\u001b[0;32m    661\u001b[0m \u001b[38;5;66;03m# this makes sense because the width of a box\u001b[39;00m\n\u001b[0;32m    662\u001b[0m \u001b[38;5;66;03m# is about the same as the distance between boxes\u001b[39;00m\n",
      "File \u001b[1;32mD:\\Ayub_Ansari_PhD_Experiments\\Dr_Shahzad_Colab\\ve_dr_shahzad\\lib\\site-packages\\sklearn\\tree\\_export.py:632\u001b[0m, in \u001b[0;36m_MPLTreeExporter._make_tree\u001b[1;34m(self, node_id, et, criterion, depth)\u001b[0m\n\u001b[0;32m    629\u001b[0m \u001b[38;5;28;01mdef\u001b[39;00m \u001b[38;5;21m_make_tree\u001b[39m(\u001b[38;5;28mself\u001b[39m, node_id, et, criterion, depth\u001b[38;5;241m=\u001b[39m\u001b[38;5;241m0\u001b[39m):\n\u001b[0;32m    630\u001b[0m     \u001b[38;5;66;03m# traverses _tree.Tree recursively, builds intermediate\u001b[39;00m\n\u001b[0;32m    631\u001b[0m     \u001b[38;5;66;03m# \"_reingold_tilford.Tree\" object\u001b[39;00m\n\u001b[1;32m--> 632\u001b[0m     name \u001b[38;5;241m=\u001b[39m \u001b[38;5;28;43mself\u001b[39;49m\u001b[38;5;241;43m.\u001b[39;49m\u001b[43mnode_to_str\u001b[49m\u001b[43m(\u001b[49m\u001b[43met\u001b[49m\u001b[43m,\u001b[49m\u001b[43m \u001b[49m\u001b[43mnode_id\u001b[49m\u001b[43m,\u001b[49m\u001b[43m \u001b[49m\u001b[43mcriterion\u001b[49m\u001b[38;5;241;43m=\u001b[39;49m\u001b[43mcriterion\u001b[49m\u001b[43m)\u001b[49m\n\u001b[0;32m    633\u001b[0m     \u001b[38;5;28;01mif\u001b[39;00m et\u001b[38;5;241m.\u001b[39mchildren_left[node_id] \u001b[38;5;241m!=\u001b[39m _tree\u001b[38;5;241m.\u001b[39mTREE_LEAF \u001b[38;5;129;01mand\u001b[39;00m (\n\u001b[0;32m    634\u001b[0m         \u001b[38;5;28mself\u001b[39m\u001b[38;5;241m.\u001b[39mmax_depth \u001b[38;5;129;01mis\u001b[39;00m \u001b[38;5;28;01mNone\u001b[39;00m \u001b[38;5;129;01mor\u001b[39;00m depth \u001b[38;5;241m<\u001b[39m\u001b[38;5;241m=\u001b[39m \u001b[38;5;28mself\u001b[39m\u001b[38;5;241m.\u001b[39mmax_depth\n\u001b[0;32m    635\u001b[0m     ):\n\u001b[0;32m    636\u001b[0m         children \u001b[38;5;241m=\u001b[39m [\n\u001b[0;32m    637\u001b[0m             \u001b[38;5;28mself\u001b[39m\u001b[38;5;241m.\u001b[39m_make_tree(\n\u001b[0;32m    638\u001b[0m                 et\u001b[38;5;241m.\u001b[39mchildren_left[node_id], et, criterion, depth\u001b[38;5;241m=\u001b[39mdepth \u001b[38;5;241m+\u001b[39m \u001b[38;5;241m1\u001b[39m\n\u001b[1;32m   (...)\u001b[0m\n\u001b[0;32m    642\u001b[0m             ),\n\u001b[0;32m    643\u001b[0m         ]\n",
      "File \u001b[1;32mD:\\Ayub_Ansari_PhD_Experiments\\Dr_Shahzad_Colab\\ve_dr_shahzad\\lib\\site-packages\\sklearn\\tree\\_export.py:367\u001b[0m, in \u001b[0;36m_BaseTreeExporter.node_to_str\u001b[1;34m(self, tree, node_id, criterion)\u001b[0m\n\u001b[0;32m    365\u001b[0m     node_string \u001b[38;5;241m+\u001b[39m\u001b[38;5;241m=\u001b[39m \u001b[38;5;124m\"\u001b[39m\u001b[38;5;124mclass = \u001b[39m\u001b[38;5;124m\"\u001b[39m\n\u001b[0;32m    366\u001b[0m \u001b[38;5;28;01mif\u001b[39;00m \u001b[38;5;28mself\u001b[39m\u001b[38;5;241m.\u001b[39mclass_names \u001b[38;5;129;01mis\u001b[39;00m \u001b[38;5;129;01mnot\u001b[39;00m \u001b[38;5;28;01mTrue\u001b[39;00m:\n\u001b[1;32m--> 367\u001b[0m     class_name \u001b[38;5;241m=\u001b[39m \u001b[38;5;28;43mself\u001b[39;49m\u001b[38;5;241;43m.\u001b[39;49m\u001b[43mclass_names\u001b[49m\u001b[43m[\u001b[49m\u001b[43mnp\u001b[49m\u001b[38;5;241;43m.\u001b[39;49m\u001b[43margmax\u001b[49m\u001b[43m(\u001b[49m\u001b[43mvalue\u001b[49m\u001b[43m)\u001b[49m\u001b[43m]\u001b[49m\n\u001b[0;32m    368\u001b[0m \u001b[38;5;28;01melse\u001b[39;00m:\n\u001b[0;32m    369\u001b[0m     class_name \u001b[38;5;241m=\u001b[39m \u001b[38;5;124m\"\u001b[39m\u001b[38;5;124my\u001b[39m\u001b[38;5;132;01m%s\u001b[39;00m\u001b[38;5;132;01m%s\u001b[39;00m\u001b[38;5;132;01m%s\u001b[39;00m\u001b[38;5;124m\"\u001b[39m \u001b[38;5;241m%\u001b[39m (\n\u001b[0;32m    370\u001b[0m         characters[\u001b[38;5;241m1\u001b[39m],\n\u001b[0;32m    371\u001b[0m         np\u001b[38;5;241m.\u001b[39margmax(value),\n\u001b[0;32m    372\u001b[0m         characters[\u001b[38;5;241m2\u001b[39m],\n\u001b[0;32m    373\u001b[0m     )\n",
      "\u001b[1;31mIndexError\u001b[0m: list index out of range"
     ]
    },
    {
     "data": {
      "image/png": "[encoded data removed]",
      "text/plain": [
       "<Figure size 1800x1440 with 1 Axes>"
      ]
     },
     "metadata": {
      "needs_background": "light"
     },
     "output_type": "display_data"
    }
   ],
   "source": [
    "from sklearn import tree\n",
    "input_features = ['MRN', 'PersonSK', 'EncounterSK', 'Length_Of_Stay', 'EventSk',\n",
    "       'Age_at_Given_Date', 'EGFR_Result_60_Or_Less',\n",
    "       'EGFR_Result', 'Gender', 'Deceased_in_EPR', 'Bleeding_Risk', 'VTE_Risk',\n",
    "       'Height', 'Weight', 'Calculated_BMI', 'Actual_BMI', 'BMI_Flag',\n",
    "       'Emergency_Admissions_Upto_36_Months_After_PerformedTime',\n",
    "       'Has_Comorbidity_Recorded_on_Spell',\n",
    "       'Has_Bleeding_Event_(or_Stroke)_on_Spell', 'Has_Stroke_on_Spell',\n",
    "       'Has_Thrombosis_on_Spell', 'EventType_apixaban',\n",
    "       'EventType_dabigatran', 'EventType_edoxaban', 'EventType_rivaroxaban']\n",
    "print(input_features)\n",
    "print(len(input_features))\n",
    "output_features = ['AC_Amount']\n",
    "fig = plt.figure(figsize=(25,20))\n",
    "_ = tree.plot_tree(result_DT, \n",
    "                   feature_names=input_features,  \n",
    "                   class_names=output_features,\n",
    "                   filled=True)"
   ]
  },
  {
   "cell_type": "code",
   "execution_count": 54,
   "metadata": {},
   "outputs": [
    {
     "ename": "ValueError",
     "evalue": "Length of feature_names, 26 does not match number of features, 23",
     "output_type": "error",
     "traceback": [
      "\u001b[1;31m---------------------------------------------------------------------------\u001b[0m",
      "\u001b[1;31mValueError\u001b[0m                                Traceback (most recent call last)",
      "Input \u001b[1;32mIn [54]\u001b[0m, in \u001b[0;36m<module>\u001b[1;34m\u001b[0m\n\u001b[0;32m      9\u001b[0m input_features \u001b[38;5;241m=\u001b[39m [\u001b[38;5;124m'\u001b[39m\u001b[38;5;124mMRN\u001b[39m\u001b[38;5;124m'\u001b[39m, \u001b[38;5;124m'\u001b[39m\u001b[38;5;124mPersonSK\u001b[39m\u001b[38;5;124m'\u001b[39m, \u001b[38;5;124m'\u001b[39m\u001b[38;5;124mEncounterSK\u001b[39m\u001b[38;5;124m'\u001b[39m, \u001b[38;5;124m'\u001b[39m\u001b[38;5;124mLength_Of_Stay\u001b[39m\u001b[38;5;124m'\u001b[39m, \u001b[38;5;124m'\u001b[39m\u001b[38;5;124mEventSk\u001b[39m\u001b[38;5;124m'\u001b[39m,\n\u001b[0;32m     10\u001b[0m        \u001b[38;5;124m'\u001b[39m\u001b[38;5;124mAge_at_Given_Date\u001b[39m\u001b[38;5;124m'\u001b[39m, \u001b[38;5;124m'\u001b[39m\u001b[38;5;124mEGFR_Result_60_Or_Less\u001b[39m\u001b[38;5;124m'\u001b[39m,\n\u001b[0;32m     11\u001b[0m        \u001b[38;5;124m'\u001b[39m\u001b[38;5;124mEGFR_Result\u001b[39m\u001b[38;5;124m'\u001b[39m, \u001b[38;5;124m'\u001b[39m\u001b[38;5;124mGender\u001b[39m\u001b[38;5;124m'\u001b[39m, \u001b[38;5;124m'\u001b[39m\u001b[38;5;124mDeceased_in_EPR\u001b[39m\u001b[38;5;124m'\u001b[39m, \u001b[38;5;124m'\u001b[39m\u001b[38;5;124mBleeding_Risk\u001b[39m\u001b[38;5;124m'\u001b[39m, \u001b[38;5;124m'\u001b[39m\u001b[38;5;124mVTE_Risk\u001b[39m\u001b[38;5;124m'\u001b[39m,\n\u001b[1;32m   (...)\u001b[0m\n\u001b[0;32m     16\u001b[0m        \u001b[38;5;124m'\u001b[39m\u001b[38;5;124mHas_Thrombosis_on_Spell\u001b[39m\u001b[38;5;124m'\u001b[39m, \u001b[38;5;124m'\u001b[39m\u001b[38;5;124mEventType_apixaban\u001b[39m\u001b[38;5;124m'\u001b[39m,\n\u001b[0;32m     17\u001b[0m        \u001b[38;5;124m'\u001b[39m\u001b[38;5;124mEventType_dabigatran\u001b[39m\u001b[38;5;124m'\u001b[39m, \u001b[38;5;124m'\u001b[39m\u001b[38;5;124mEventType_edoxaban\u001b[39m\u001b[38;5;124m'\u001b[39m, \u001b[38;5;124m'\u001b[39m\u001b[38;5;124mEventType_rivaroxaban\u001b[39m\u001b[38;5;124m'\u001b[39m]\n\u001b[0;32m     18\u001b[0m output_features \u001b[38;5;241m=\u001b[39m [\u001b[38;5;124m'\u001b[39m\u001b[38;5;124mAC_Amount\u001b[39m\u001b[38;5;124m'\u001b[39m]\n\u001b[1;32m---> 19\u001b[0m dot_data \u001b[38;5;241m=\u001b[39m \u001b[43mtree\u001b[49m\u001b[38;5;241;43m.\u001b[39;49m\u001b[43mexport_graphviz\u001b[49m\u001b[43m(\u001b[49m\u001b[43mresult_DT\u001b[49m\u001b[43m,\u001b[49m\u001b[43m \u001b[49m\u001b[43mout_file\u001b[49m\u001b[38;5;241;43m=\u001b[39;49m\u001b[38;5;28;43;01mNone\u001b[39;49;00m\u001b[43m,\u001b[49m\u001b[43m \u001b[49m\n\u001b[0;32m     20\u001b[0m \u001b[43m                      \u001b[49m\u001b[43mfeature_names\u001b[49m\u001b[38;5;241;43m=\u001b[39;49m\u001b[43minput_features\u001b[49m\u001b[43m,\u001b[49m\u001b[43m  \u001b[49m\n\u001b[0;32m     21\u001b[0m \u001b[43m                      \u001b[49m\u001b[43mclass_names\u001b[49m\u001b[38;5;241;43m=\u001b[39;49m\u001b[43moutput_features\u001b[49m\u001b[43m,\u001b[49m\u001b[43m  \u001b[49m\n\u001b[0;32m     22\u001b[0m \u001b[43m                      \u001b[49m\u001b[43mfilled\u001b[49m\u001b[38;5;241;43m=\u001b[39;49m\u001b[38;5;28;43;01mTrue\u001b[39;49;00m\u001b[43m,\u001b[49m\u001b[43m \u001b[49m\u001b[43mrounded\u001b[49m\u001b[38;5;241;43m=\u001b[39;49m\u001b[38;5;28;43;01mTrue\u001b[39;49;00m\u001b[43m,\u001b[49m\u001b[43m  \u001b[49m\n\u001b[0;32m     23\u001b[0m \u001b[43m                      \u001b[49m\u001b[43mspecial_characters\u001b[49m\u001b[38;5;241;43m=\u001b[39;49m\u001b[38;5;28;43;01mTrue\u001b[39;49;00m\u001b[43m)\u001b[49m  \n\u001b[0;32m     24\u001b[0m graph \u001b[38;5;241m=\u001b[39m graphviz\u001b[38;5;241m.\u001b[39mSource(dot_data)  \n\u001b[0;32m     25\u001b[0m graph \n",
      "File \u001b[1;32mD:\\Ayub_Ansari_PhD_Experiments\\Dr_Shahzad_Colab\\ve_dr_shahzad\\lib\\site-packages\\sklearn\\tree\\_export.py:889\u001b[0m, in \u001b[0;36mexport_graphviz\u001b[1;34m(decision_tree, out_file, max_depth, feature_names, class_names, label, filled, leaves_parallel, impurity, node_ids, proportion, rotate, rounded, special_characters, precision, fontname)\u001b[0m\n\u001b[0;32m    870\u001b[0m     out_file \u001b[38;5;241m=\u001b[39m StringIO()\n\u001b[0;32m    872\u001b[0m exporter \u001b[38;5;241m=\u001b[39m _DOTTreeExporter(\n\u001b[0;32m    873\u001b[0m     out_file\u001b[38;5;241m=\u001b[39mout_file,\n\u001b[0;32m    874\u001b[0m     max_depth\u001b[38;5;241m=\u001b[39mmax_depth,\n\u001b[1;32m   (...)\u001b[0m\n\u001b[0;32m    887\u001b[0m     fontname\u001b[38;5;241m=\u001b[39mfontname,\n\u001b[0;32m    888\u001b[0m )\n\u001b[1;32m--> 889\u001b[0m \u001b[43mexporter\u001b[49m\u001b[38;5;241;43m.\u001b[39;49m\u001b[43mexport\u001b[49m\u001b[43m(\u001b[49m\u001b[43mdecision_tree\u001b[49m\u001b[43m)\u001b[49m\n\u001b[0;32m    891\u001b[0m \u001b[38;5;28;01mif\u001b[39;00m return_string:\n\u001b[0;32m    892\u001b[0m     \u001b[38;5;28;01mreturn\u001b[39;00m exporter\u001b[38;5;241m.\u001b[39mout_file\u001b[38;5;241m.\u001b[39mgetvalue()\n",
      "File \u001b[1;32mD:\\Ayub_Ansari_PhD_Experiments\\Dr_Shahzad_Colab\\ve_dr_shahzad\\lib\\site-packages\\sklearn\\tree\\_export.py:452\u001b[0m, in \u001b[0;36m_DOTTreeExporter.export\u001b[1;34m(self, decision_tree)\u001b[0m\n\u001b[0;32m    450\u001b[0m \u001b[38;5;28;01mif\u001b[39;00m \u001b[38;5;28mself\u001b[39m\u001b[38;5;241m.\u001b[39mfeature_names \u001b[38;5;129;01mis\u001b[39;00m \u001b[38;5;129;01mnot\u001b[39;00m \u001b[38;5;28;01mNone\u001b[39;00m:\n\u001b[0;32m    451\u001b[0m     \u001b[38;5;28;01mif\u001b[39;00m \u001b[38;5;28mlen\u001b[39m(\u001b[38;5;28mself\u001b[39m\u001b[38;5;241m.\u001b[39mfeature_names) \u001b[38;5;241m!=\u001b[39m decision_tree\u001b[38;5;241m.\u001b[39mn_features_in_:\n\u001b[1;32m--> 452\u001b[0m         \u001b[38;5;28;01mraise\u001b[39;00m \u001b[38;5;167;01mValueError\u001b[39;00m(\n\u001b[0;32m    453\u001b[0m             \u001b[38;5;124m\"\u001b[39m\u001b[38;5;124mLength of feature_names, \u001b[39m\u001b[38;5;132;01m%d\u001b[39;00m\u001b[38;5;124m does not match number of features, \u001b[39m\u001b[38;5;132;01m%d\u001b[39;00m\u001b[38;5;124m\"\u001b[39m\n\u001b[0;32m    454\u001b[0m             \u001b[38;5;241m%\u001b[39m (\u001b[38;5;28mlen\u001b[39m(\u001b[38;5;28mself\u001b[39m\u001b[38;5;241m.\u001b[39mfeature_names), decision_tree\u001b[38;5;241m.\u001b[39mn_features_in_)\n\u001b[0;32m    455\u001b[0m         )\n\u001b[0;32m    456\u001b[0m \u001b[38;5;66;03m# each part writes to out_file\u001b[39;00m\n\u001b[0;32m    457\u001b[0m \u001b[38;5;28mself\u001b[39m\u001b[38;5;241m.\u001b[39mhead()\n",
      "\u001b[1;31mValueError\u001b[0m: Length of feature_names, 26 does not match number of features, 23"
     ]
    }
   ],
   "source": [
    "######## Creating Trees and printing on console. \n",
    "from sklearn import tree\n",
    "import graphviz \n",
    "##### setting environment variable of Path for Graphviz\n",
    "import os\n",
    "#os.environ[\"PATH\"] += os.pathsep + 'C:/ProgramData/Anaconda3/Library/bin/graphviz/'\n",
    "os.environ[\"PATH\"] = 'D:/Ayub_Ansari_PhD_Experiments/Dr_Shahzad_Colab/ve_dr_shahzad/Lib/site-packages/graphviz/'\n",
    "\n",
    "input_features = ['MRN', 'PersonSK', 'EncounterSK', 'Length_Of_Stay', 'EventSk',\n",
    "       'Age_at_Given_Date', 'EGFR_Result_60_Or_Less',\n",
    "       'EGFR_Result', 'Gender', 'Deceased_in_EPR', 'Bleeding_Risk', 'VTE_Risk',\n",
    "       'Height', 'Weight', 'Calculated_BMI', 'Actual_BMI', 'BMI_Flag',\n",
    "       'Emergency_Admissions_Upto_36_Months_After_PerformedTime',\n",
    "       'Has_Comorbidity_Recorded_on_Spell',\n",
    "       'Has_Bleeding_Event_(or_Stroke)_on_Spell', 'Has_Stroke_on_Spell',\n",
    "       'Has_Thrombosis_on_Spell', 'EventType_apixaban',\n",
    "       'EventType_dabigatran', 'EventType_edoxaban', 'EventType_rivaroxaban']\n",
    "output_features = ['AC_Amount']\n",
    "dot_data = tree.export_graphviz(result_DT, out_file=None, \n",
    "                      feature_names=input_features,  \n",
    "                      class_names=output_features,  \n",
    "                      filled=True, rounded=True,  \n",
    "                      special_characters=True)  \n",
    "graph = graphviz.Source(dot_data)  \n",
    "graph \n",
    "######### Creating Tree and storing as PDF\n",
    "graph.render(\"DecisionTree\")"
   ]
  },
  {
   "cell_type": "markdown",
   "metadata": {},
   "source": [
    "#### Hyper Parameter Tuning"
   ]
  },
  {
   "cell_type": "code",
   "execution_count": 55,
   "metadata": {},
   "outputs": [
    {
     "name": "stdout",
     "output_type": "stream",
     "text": [
      "Best parameters are: {'criterion': 'gini', 'max_depth': 9, 'min_samples_leaf': 2}\n",
      "Best score is 0.8586699507389163 \n"
     ]
    }
   ],
   "source": [
    "###############################################################################\n",
    "###                Hyper parameter tuning and cross validation              ###\n",
    "###############################################################################\n",
    "from scipy.stats import randint\n",
    "from sklearn.model_selection import GridSearchCV\n",
    "import warnings\n",
    "warnings.simplefilter(\"ignore\")\n",
    "\n",
    "##### 1 Setup the parameters\n",
    "param_dist = {\"max_depth\":[1,9],\n",
    "              \"min_samples_leaf\": [2,9],\n",
    "              \"criterion\": [\"gini\",\"entropy\"]}\n",
    "\n",
    "#### 2 instantiate a decision tree\n",
    "Dtree = DecisionTreeClassifier()\n",
    "\n",
    "#### 3 instantiate ranommizedsearchCV object\n",
    "tree_cv =  GridSearchCV(Dtree, param_dist, n_jobs=None, cv=10, verbose=0)\n",
    "\n",
    "#### 4 fit to the data\n",
    "Result = tree_cv.fit(X_train, y_train)\n",
    "DT_result = Result\n",
    "#### 5 print the tunned parameters and score\n",
    "print(\"Best parameters are: {}\".format(tree_cv.best_params_))\n",
    "print(\"Best score is {} \".format(tree_cv.best_score_))"
   ]
  },
  {
   "cell_type": "markdown",
   "metadata": {},
   "source": [
    "## 2. Bootstrap Aggregation(Bagging)"
   ]
  },
  {
   "cell_type": "markdown",
   "metadata": {},
   "source": [
    "Bootstrap Aggregation (or Bagging for short), is a simple and very powerful ensemble method.\n",
    "\n",
    "An ensemble method is a technique that combines the predictions from multiple machine learning algorithms together to make more accurate predictions than any individual model.\n",
    "\n",
    "Bootstrap Aggregation is a general procedure that can be used to reduce the variance for those algorithm that have high variance. An algorithm that has high variance are decision trees, like classification and regression trees (CART).\n",
    "\n",
    "Decision trees are sensitive to the specific data on which they are trained. If the training data is changed (e.g. a tree is trained on a subset of the training data) the resulting decision tree can be quite different and in turn the predictions can be quite different.\n",
    "\n",
    "Bagging is the application of the Bootstrap procedure to a high-variance machine learning algorithm, typically decision trees.\n",
    "\n",
    "Let’s assume we have a sample dataset of 1000 instances (x) and we are using the CART algorithm. Bagging of the CART algorithm would work as follows.\n",
    "\n",
    "1. Create many (e.g. 100) random sub-samples of our dataset with replacement.\n",
    "2. Train a CART model on each sample.\n",
    "3. Given a new dataset, calculate the average prediction from each model.\n",
    "For example, if we had 5 bagged decision trees that made the following class predictions for a in input sample: blue, blue, red, blue and red, we would take the most frequent class and predict blue.\n",
    "\n",
    "\n",
    "Source: https://machinelearningmastery.com/bagging-and-random-forest-ensemble-algorithms-for-machine-learning/"
   ]
  },
  {
   "cell_type": "code",
   "execution_count": 56,
   "metadata": {},
   "outputs": [
    {
     "name": "stdout",
     "output_type": "stream",
     "text": [
      "Best: 0.983609 using {'n_estimators': 200}\n",
      "0.980920 (0.002012) with: {'n_estimators': 10}\n",
      "0.983460 (0.001484) with: {'n_estimators': 100}\n",
      "0.983609 (0.001693) with: {'n_estimators': 200}\n",
      "0.983586 (0.001648) with: {'n_estimators': 300}\n",
      "0.983575 (0.001749) with: {'n_estimators': 1000}\n"
     ]
    }
   ],
   "source": [
    "\"\"\"\n",
    "Source: \n",
    "https://machinelearningmastery.com/hyperparameters-for-classification-machine-learning-algorithms/\n",
    "\"\"\"\n",
    "# example of grid searching key hyperparameters for BaggingClassifier\n",
    "\n",
    "from sklearn.ensemble import BaggingClassifier\n",
    "from sklearn.model_selection import RepeatedStratifiedKFold\n",
    "\n",
    "#X = data[['layer_height', 'wall_thickness', 'infill_density', 'infill_pattern','nozzle_temperature', 'bed_temperature', 'print_speed', 'material','fan_speed']]\n",
    "#y = data[['elongation']]\n",
    "\n",
    "# define models and parameters\n",
    "model = BaggingClassifier(random_state=1)\n",
    "n_estimators = [10, 100,200, 300, 1000]\n",
    "# define grid search\n",
    "grid = dict(n_estimators=n_estimators)\n",
    "cv = RepeatedStratifiedKFold(n_splits=5, n_repeats=3, random_state=1)\n",
    "grid_search = GridSearchCV(estimator=model, param_grid=grid, n_jobs=-1, cv=cv, scoring='accuracy',error_score=0)\n",
    "grid_result = grid_search.fit(X, y)\n",
    "\n",
    "BA_result = grid_result\n",
    "# summarize results\n",
    "print(\"Best: %f using %s\" % (grid_result.best_score_, grid_result.best_params_))\n",
    "means = grid_result.cv_results_['mean_test_score']\n",
    "stds = grid_result.cv_results_['std_test_score']\n",
    "params = grid_result.cv_results_['params']\n",
    "for mean, stdev, param in zip(means, stds, params):\n",
    "    print(\"%f (%f) with: %r\" % (mean, stdev, param))"
   ]
  },
  {
   "cell_type": "markdown",
   "metadata": {},
   "source": [
    "## 3. Random Forest"
   ]
  },
  {
   "cell_type": "markdown",
   "metadata": {},
   "source": [
    "Random Forests are an improvement over bagged decision trees.\n",
    "\n",
    "A problem with decision trees like CART is that they are greedy. They choose which variable to split on using a greedy algorithm that minimizes error. As such, even with Bagging, the decision trees can have a lot of structural similarities and in turn have high correlation in their predictions.\n",
    "\n",
    "Combining predictions from multiple models in ensembles works better if the predictions from the sub-models are uncorrelated or at best weakly correlated.\n",
    "\n",
    "Random forest changes the algorithm for the way that the sub-trees are learned so that the resulting predictions from all of the subtrees have less correlation."
   ]
  },
  {
   "cell_type": "code",
   "execution_count": 58,
   "metadata": {},
   "outputs": [
    {
     "name": "stdout",
     "output_type": "stream",
     "text": [
      "Accuracy: 0.9808045977011495\n",
      "                precision    recall  f1-score   support\n",
      "\n",
      "  apixaban_2.5       0.96      0.88      0.92       208\n",
      "    apixaban_5       0.99      0.99      0.99      3061\n",
      "   apixaban_10       0.99      0.99      0.99      3956\n",
      "rivaroxaban_10       1.00      0.98      0.99        64\n",
      "rivaroxaban_15       1.00      1.00      1.00        28\n",
      "rivaroxaban_20       1.00      1.00      1.00         1\n",
      "   edoxaban_30       1.00      1.00      1.00        14\n",
      "   edoxaban_60       1.00      1.00      1.00        13\n",
      " dabigatran_75       1.00      0.81      0.89        62\n",
      "dabigatran_110       0.97      0.96      0.96       555\n",
      "dabigatran_150       0.97      0.97      0.97       738\n",
      "\n",
      "     micro avg       0.99      0.98      0.98      8700\n",
      "     macro avg       0.99      0.96      0.97      8700\n",
      "  weighted avg       0.99      0.98      0.98      8700\n",
      "   samples avg       0.98      0.98      0.98      8700\n",
      "\n",
      "Confusion Matrix\n",
      "[[ 195    4    9    0    0    0    0    0    0    0    0]\n",
      " [  13 3021   27    0    0    0    0    0    0    0    0]\n",
      " [  15   29 3912    0    0    0    0    0    0    0    0]\n",
      " [   1    0    0   63    0    0    0    0    0    0    0]\n",
      " [   0    0    0    0   28    0    0    0    0    0    0]\n",
      " [   0    0    0    0    0    1    0    0    0    0    0]\n",
      " [   0    0    0    0    0    0   14    0    0    0    0]\n",
      " [   0    0    0    0    0    0    0   13    0    0    0]\n",
      " [   3    0    0    0    0    0    0    0   50    2    7]\n",
      " [   9    0    0    0    0    0    0    0    0  531   15]\n",
      " [   9    0    0    0    0    0    0    0    0   13  716]]\n"
     ]
    }
   ],
   "source": [
    "from sklearn.ensemble import RandomForestClassifier\n",
    "\n",
    "#encode categorical data into digits\n",
    "y = pd.get_dummies(y)\n",
    "# train test split\n",
    "X_train, X_test, y_train, y_test = train_test_split(X, y,test_size=0.3, random_state=1,stratify=y)\n",
    "# Random Forests construction \n",
    "rf = RandomForestClassifier(criterion='entropy', \n",
    "                             n_estimators=1000,\n",
    "                             min_samples_split=2,\n",
    "                             min_samples_leaf=1,\n",
    "                             max_features='auto',\n",
    "                             oob_score=True,\n",
    "                             random_state=1,\n",
    "                             n_jobs=-1,\n",
    "                             verbose= 0)\n",
    "result_RF = rf.fit(X_train, y_train)\n",
    "\n",
    "#pridiction\n",
    "y_pred = rf.predict(X_test)\n",
    "#accuracy\n",
    "print(\"Accuracy:\",metrics.accuracy_score(y_test, y_pred))\n",
    "namez =  [\"apixaban_2.5\",\"apixaban_5\", \"apixaban_10\",\"rivaroxaban_10\", \"rivaroxaban_15\",\"rivaroxaban_20\",\n",
    "          \"edoxaban_30\", \"edoxaban_60\",\"dabigatran_75\", \"dabigatran_110\", \"dabigatran_150\"]\n",
    "print(metrics.classification_report(y_test, y_pred, target_names=namez, digits=2,output_dict=False)) \n",
    "\n",
    "#confusion matrix\n",
    "species = np.array(y_test).argmax(axis=1)\n",
    "predictions = np.array(y_pred).argmax(axis=1)\n",
    "print(\"Confusion Matrix\")\n",
    "print(confusion_matrix(species, predictions))\n",
    "\n"
   ]
  },
  {
   "cell_type": "markdown",
   "metadata": {},
   "source": [
    "### Parameter Importance in Classifier"
   ]
  },
  {
   "cell_type": "code",
   "execution_count": 59,
   "metadata": {},
   "outputs": [
    {
     "name": "stdout",
     "output_type": "stream",
     "text": [
      "Variable importacne in the classifier.\n",
      "                                             variable  importance\n",
      "19                                 EventType_apixaban    0.140284\n",
      "22                              EventType_rivaroxaban    0.121249\n",
      "0                                   Age_at_Given_Date    0.096474\n",
      "18                                     Treatment_days    0.087249\n",
      "3                                         EGFR_Result    0.084217\n",
      "1                                           AC_Amount    0.076303\n",
      "9                                              Weight    0.062205\n",
      "8                                              Height    0.057407\n",
      "11                                         Actual_BMI    0.057019\n",
      "10                                     Calculated_BMI    0.055403\n",
      "13  Emergency_Admissions_Upto_36_Months_After_Perf...    0.050125\n",
      "16                                Has_Stroke_on_Spell    0.019950\n",
      "6                                       Bleeding_Risk    0.017903\n",
      "20                               EventType_dabigatran    0.015542\n",
      "14                  Has_Comorbidity_Recorded_on_Spell    0.014072\n",
      "2                              EGFR_Result_60_Or_Less    0.013310\n",
      "4                                              Gender    0.011791\n",
      "5                                     Deceased_in_EPR    0.011384\n",
      "21                                 EventType_edoxaban    0.004339\n",
      "7                                            VTE_Risk    0.002155\n",
      "17                            Has_Thrombosis_on_Spell    0.001517\n",
      "15            Has_Bleeding_Event_(or_Stroke)_on_Spell    0.000104\n",
      "12                                           BMI_Flag    0.000000\n"
     ]
    }
   ],
   "source": [
    "# Variable importance in classifier\n",
    "print(\"Variable importacne in the classifier.\")\n",
    "print(pd.concat((pd.DataFrame(obese_df.iloc[:, 1:].columns, columns = ['variable']), \n",
    "           pd.DataFrame(result_RF.feature_importances_, columns = ['importance'])), \n",
    "          axis = 1).sort_values(by='importance', ascending = False))\n"
   ]
  },
  {
   "cell_type": "markdown",
   "metadata": {},
   "source": [
    "### Hyper-parameter Tuning"
   ]
  },
  {
   "cell_type": "code",
   "execution_count": 60,
   "metadata": {},
   "outputs": [
    {
     "name": "stdout",
     "output_type": "stream",
     "text": [
      "Best parameters are: {'criterion': 'entropy', 'max_depth': None, 'max_features': 'sqrt', 'min_samples_leaf': 1, 'n_estimators': 1000}\n",
      "Best score is 0.9744334975369459 \n"
     ]
    }
   ],
   "source": [
    "###############################################################################\n",
    "###                Hyper parameter tuning and cross validation              ###\n",
    "###############################################################################\n",
    "\n",
    "y = pd.get_dummies(y)\n",
    "# train test split\n",
    "X_train, X_test, y_train, y_test = train_test_split(X, y,test_size=0.3, random_state=1,stratify=y)\n",
    "\n",
    "##### 1 Setup the parameters\n",
    "param_dist = {\"max_depth\":[None,9],\n",
    "              \"min_samples_leaf\": [1,50],\n",
    "              \"max_features\":['sqrt', 'log2'],\n",
    "              \"n_estimators\":[10,1000],\n",
    "              \"criterion\": [\"gini\",\"entropy\"]\n",
    "              }\n",
    "\n",
    "#### 2 instantiate a decision tree\n",
    "RF_tree = RandomForestClassifier()\n",
    "\n",
    "#### 3 instantiate ranommizedsearchCV object\n",
    "tree_cv =  GridSearchCV(RF_tree, param_dist, n_jobs=-1, cv=5)\n",
    "\n",
    "#### 4 fit to the data\n",
    "Result = tree_cv.fit(X_train, y_train)\n",
    "\n",
    "#### 5 print the tunned parameters and score\n",
    "print(\"Best parameters are: {}\".format(tree_cv.best_params_))\n",
    "print(\"Best score is {} \".format(tree_cv.best_score_))\n",
    "RF_result = Result"
   ]
  },
  {
   "cell_type": "markdown",
   "metadata": {},
   "source": [
    "## 4. K-Nearest Neighbhours "
   ]
  },
  {
   "cell_type": "markdown",
   "metadata": {},
   "source": [
    "K-Nearest Neighbors, or KNN for short, is one of the simplest machine learning algorithms and is used in a wide array of institutions. KNN is a non-parametric, lazy learning algorithm. When we say a technique is non-parametric, it means that it does not make any assumptions about the underlying data. In other words, it makes its selection based off of the proximity to other data points regardless of what feature the numerical values represent. Being a lazy learning algorithm implies that there is little to no training phase. Therefore, we can immediately classify new data points as they present themselves.\n",
    "\n",
    "Pros:\n",
    "No assumptions about data\n",
    "Simple algorithm — easy to understand\n",
    "Can be used for classification and regression\n",
    "Cons:\n",
    "High memory requirement — All of the training data must be present in memory in order to calculate the closest K neighbors\n",
    "Sensitive to irrelevant features\n",
    "Sensitive to the scale of the data since we’re computing the distance to the closest K points\n",
    "\n",
    "Source: https://towardsdatascience.com/k-nearest-neighbor-python-2fccc47d2a55\n"
   ]
  },
  {
   "cell_type": "code",
   "execution_count": 61,
   "metadata": {},
   "outputs": [
    {
     "name": "stdout",
     "output_type": "stream",
     "text": [
      "Best: 0.976954 using {'metric': 'manhattan', 'n_neighbors': 1, 'weights': 'uniform'}\n",
      "Using Standardised Data\n",
      "Best: 0.980517 using {'metric': 'manhattan', 'n_neighbors': 1, 'weights': 'uniform'}\n",
      "Using Normalised Data\n",
      "Best: 0.975609 using {'metric': 'manhattan', 'n_neighbors': 1, 'weights': 'uniform'}\n"
     ]
    }
   ],
   "source": [
    "\"\"\"\n",
    "Source: \n",
    "https://machinelearningmastery.com/hyperparameters-for-classification-machine-learning-algorithms/\n",
    "\"\"\"\n",
    "\n",
    "# example of grid searching key hyperparametres for KNeighborsClassifier\n",
    "from sklearn.neighbors import KNeighborsClassifier\n",
    "\n",
    "\n",
    "#X = data[['layer_height', 'wall_thickness', 'infill_density', 'infill_pattern','nozzle_temperature', 'bed_temperature', 'print_speed', 'material','fan_speed']]\n",
    "#y = data[['elongation']]\n",
    "X = obese_df[['Length_Of_Stay', 'Age_at_Given_Date',\n",
    "       'EGFR_Result_60_Or_Less', 'EGFR_Result', 'Gender', 'Deceased_in_EPR',\n",
    "       'Bleeding_Risk', 'VTE_Risk', 'Height', 'Weight', 'Calculated_BMI',\n",
    "       'Actual_BMI', 'BMI_Flag',\n",
    "       'Emergency_Admissions_Upto_36_Months_After_PerformedTime',\n",
    "       'Has_Comorbidity_Recorded_on_Spell',\n",
    "       'Has_Bleeding_Event_(or_Stroke)_on_Spell', 'Has_Stroke_on_Spell',\n",
    "       'Has_Thrombosis_on_Spell', 'Treatment_days', 'EventType_apixaban',\n",
    "       'EventType_dabigatran', 'EventType_edoxaban', 'EventType_rivaroxaban']]\n",
    "y = obese_df[['AC_Amount']]\n",
    "# define models and parameters\n",
    "model = KNeighborsClassifier()\n",
    "n_neighbors = range(1, 21, 2)\n",
    "weights = ['uniform', 'distance']\n",
    "metric = ['euclidean', 'manhattan', 'minkowski']\n",
    "# define grid search\n",
    "grid = dict(n_neighbors=n_neighbors,weights=weights,metric=metric)\n",
    "cv = RepeatedStratifiedKFold(n_splits=5, n_repeats=3, random_state=1)\n",
    "grid_search = GridSearchCV(estimator=model, param_grid=grid, n_jobs=-1, cv=cv, scoring='accuracy',error_score=0, verbose=0)\n",
    "######################################## Using raw data\n",
    "grid_result = grid_search.fit(X, y)\n",
    "KNN_result = grid_result\n",
    "# summarize results\n",
    "print(\"Best: %f using %s\" % (grid_result.best_score_, grid_result.best_params_))\n",
    "means = grid_result.cv_results_['mean_test_score']\n",
    "stds = grid_result.cv_results_['std_test_score']\n",
    "params = grid_result.cv_results_['params']\n",
    "#for mean, stdev, param in zip(means, stds, params):\n",
    "#    print(\"%f (%f) with: %r\" % (mean, stdev, param))\n",
    "    \n",
    "########################################## Using Standardised Data\n",
    "print(\"Using Standardised Data\")\n",
    "grid_result = grid_search.fit(standardized_X, y)\n",
    "KNN_result_standard = grid_result\n",
    "# summarize results\n",
    "print(\"Best: %f using %s\" % (grid_result.best_score_, grid_result.best_params_))\n",
    "means = grid_result.cv_results_['mean_test_score']\n",
    "stds = grid_result.cv_results_['std_test_score']\n",
    "params = grid_result.cv_results_['params']\n",
    "#for mean, stdev, param in zip(means, stds, params):\n",
    " #   print(\"%f (%f) with: %r\" % (mean, stdev, param))\n",
    "\n",
    "########################################## Using Normalised Data\n",
    "print(\"Using Normalised Data\")\n",
    "grid_result = grid_search.fit(normalized_X, y)\n",
    "KNN_result_normal = grid_result\n",
    "# summarize results\n",
    "print(\"Best: %f using %s\" % (grid_result.best_score_, grid_result.best_params_))\n",
    "means = grid_result.cv_results_['mean_test_score']\n",
    "stds = grid_result.cv_results_['std_test_score']\n",
    "params = grid_result.cv_results_['params']\n",
    "#for mean, stdev, param in zip(means, stds, params):\n",
    " #   print(\"%f (%f) with: %r\" % (mean, stdev, param))\n"
   ]
  },
  {
   "cell_type": "markdown",
   "metadata": {},
   "source": [
    "# Linear Regression\n",
    "The following are a set of methods intended for regression in which the target value is expected to be a linear combination of the features. In mathematical notation, if 'y'is the predicted value.\n",
    "\n",
    "'y'(w, x) = w0 + w1.x1 + w2.x2 + ... + wp.xp\n",
    "\n",
    "Across the module, we designate the vector w1.x1 + w2.x2 + ... + wp.xp as coef_ and \n",
    "w0 as intercept_.\n"
   ]
  },
  {
   "cell_type": "markdown",
   "metadata": {},
   "source": [
    "When we talk about Regression, we often end up discussing Linear and Logistic Regression. But, that’s not the end. Do you know there are 7 types of Regressions?\n",
    "\n",
    "Linear and logistic regression is just the most loved members from the family of regressions.  Last week, I saw a recorded talk at NYC Data Science Academy from Owen Zhang, Chief Product Officer at DataRobot. He said, ‘if you are using regression without regularization, you have to be very special!’. I hope you get what a person of his stature referred to.\n",
    "\n",
    "I understood it very well and decided to explore regularization techniques in detail.\n",
    "\n",
    "In this article, I have explained the complex science behind ‘Ridge Regression‘ and ‘Lasso Regression‘ which are the most fundamental regularization techniques used in data science, sadly still not used by many.\n",
    "Source: https://www.analyticsvidhya.com/blog/2016/01/ridge-lasso-regression-python-complete-tutorial/"
   ]
  },
  {
   "cell_type": "markdown",
   "metadata": {},
   "source": [
    "## 8. Logistic Regression"
   ]
  },
  {
   "cell_type": "code",
   "execution_count": 62,
   "metadata": {},
   "outputs": [
    {
     "name": "stdout",
     "output_type": "stream",
     "text": [
      "Best: 0.686667 using {'C': 100, 'penalty': 'l2', 'solver': 'liblinear'}\n",
      "0.675494 (0.006526) with: {'C': 100, 'penalty': 'l2', 'solver': 'newton-cg'}\n",
      "0.471713 (0.014953) with: {'C': 100, 'penalty': 'l2', 'solver': 'lbfgs'}\n",
      "0.686667 (0.010504) with: {'C': 100, 'penalty': 'l2', 'solver': 'liblinear'}\n",
      "0.676023 (0.006300) with: {'C': 10, 'penalty': 'l2', 'solver': 'newton-cg'}\n",
      "0.477782 (0.018014) with: {'C': 10, 'penalty': 'l2', 'solver': 'lbfgs'}\n",
      "0.684736 (0.008093) with: {'C': 10, 'penalty': 'l2', 'solver': 'liblinear'}\n",
      "0.676241 (0.005941) with: {'C': 1.0, 'penalty': 'l2', 'solver': 'newton-cg'}\n",
      "0.476184 (0.016843) with: {'C': 1.0, 'penalty': 'l2', 'solver': 'lbfgs'}\n",
      "0.684575 (0.007197) with: {'C': 1.0, 'penalty': 'l2', 'solver': 'liblinear'}\n",
      "0.675126 (0.007813) with: {'C': 0.1, 'penalty': 'l2', 'solver': 'newton-cg'}\n",
      "0.473230 (0.015520) with: {'C': 0.1, 'penalty': 'l2', 'solver': 'lbfgs'}\n",
      "0.683885 (0.008862) with: {'C': 0.1, 'penalty': 'l2', 'solver': 'liblinear'}\n",
      "0.676138 (0.006649) with: {'C': 0.01, 'penalty': 'l2', 'solver': 'newton-cg'}\n",
      "0.470333 (0.015691) with: {'C': 0.01, 'penalty': 'l2', 'solver': 'lbfgs'}\n",
      "0.677782 (0.009669) with: {'C': 0.01, 'penalty': 'l2', 'solver': 'liblinear'}\n",
      "Using Standardised Data\n",
      "Best: 0.699184 using {'C': 100, 'penalty': 'l2', 'solver': 'newton-cg'}\n",
      "0.699184 (0.007072) with: {'C': 100, 'penalty': 'l2', 'solver': 'newton-cg'}\n",
      "0.698759 (0.007073) with: {'C': 100, 'penalty': 'l2', 'solver': 'lbfgs'}\n",
      "0.698920 (0.007157) with: {'C': 100, 'penalty': 'l2', 'solver': 'liblinear'}\n",
      "0.699138 (0.007155) with: {'C': 10, 'penalty': 'l2', 'solver': 'newton-cg'}\n",
      "0.698621 (0.007200) with: {'C': 10, 'penalty': 'l2', 'solver': 'lbfgs'}\n",
      "0.696874 (0.006945) with: {'C': 10, 'penalty': 'l2', 'solver': 'liblinear'}\n",
      "0.698816 (0.007072) with: {'C': 1.0, 'penalty': 'l2', 'solver': 'newton-cg'}\n",
      "0.699034 (0.007102) with: {'C': 1.0, 'penalty': 'l2', 'solver': 'lbfgs'}\n",
      "0.696437 (0.006535) with: {'C': 1.0, 'penalty': 'l2', 'solver': 'liblinear'}\n",
      "0.697218 (0.007178) with: {'C': 0.1, 'penalty': 'l2', 'solver': 'newton-cg'}\n",
      "0.696874 (0.007152) with: {'C': 0.1, 'penalty': 'l2', 'solver': 'lbfgs'}\n",
      "0.695460 (0.006668) with: {'C': 0.1, 'penalty': 'l2', 'solver': 'liblinear'}\n",
      "0.695402 (0.006498) with: {'C': 0.01, 'penalty': 'l2', 'solver': 'newton-cg'}\n",
      "0.695494 (0.006455) with: {'C': 0.01, 'penalty': 'l2', 'solver': 'lbfgs'}\n",
      "0.689632 (0.006786) with: {'C': 0.01, 'penalty': 'l2', 'solver': 'liblinear'}\n",
      "Using Normalised Data\n",
      "Best: 0.601793 using {'C': 100, 'penalty': 'l2', 'solver': 'newton-cg'}\n",
      "0.601793 (0.007816) with: {'C': 100, 'penalty': 'l2', 'solver': 'newton-cg'}\n",
      "0.556713 (0.006188) with: {'C': 100, 'penalty': 'l2', 'solver': 'lbfgs'}\n",
      "0.588138 (0.007207) with: {'C': 100, 'penalty': 'l2', 'solver': 'liblinear'}\n",
      "0.560552 (0.005437) with: {'C': 10, 'penalty': 'l2', 'solver': 'newton-cg'}\n",
      "0.557701 (0.006212) with: {'C': 10, 'penalty': 'l2', 'solver': 'lbfgs'}\n",
      "0.557138 (0.005732) with: {'C': 10, 'penalty': 'l2', 'solver': 'liblinear'}\n",
      "0.553954 (0.005905) with: {'C': 1.0, 'penalty': 'l2', 'solver': 'newton-cg'}\n",
      "0.553598 (0.005305) with: {'C': 1.0, 'penalty': 'l2', 'solver': 'lbfgs'}\n",
      "0.550483 (0.006133) with: {'C': 1.0, 'penalty': 'l2', 'solver': 'liblinear'}\n",
      "0.549816 (0.005207) with: {'C': 0.1, 'penalty': 'l2', 'solver': 'newton-cg'}\n",
      "0.549920 (0.005236) with: {'C': 0.1, 'penalty': 'l2', 'solver': 'lbfgs'}\n",
      "0.544609 (0.004794) with: {'C': 0.1, 'penalty': 'l2', 'solver': 'liblinear'}\n",
      "0.482425 (0.003889) with: {'C': 0.01, 'penalty': 'l2', 'solver': 'newton-cg'}\n",
      "0.482402 (0.003894) with: {'C': 0.01, 'penalty': 'l2', 'solver': 'lbfgs'}\n",
      "0.461000 (0.002740) with: {'C': 0.01, 'penalty': 'l2', 'solver': 'liblinear'}\n"
     ]
    }
   ],
   "source": [
    "from sklearn.linear_model import LogisticRegression\n",
    "\n",
    "#data['elongation'] = pd.cut(data['elongation'], bins=[0,1,3,4], labels=[\"small\", \"big\", \"very_big\"])\n",
    "#X = data[['layer_height', 'wall_thickness', 'infill_density', 'infill_pattern','nozzle_temperature', 'bed_temperature', 'print_speed', 'material','fan_speed']]\n",
    "#y = data[['elongation']]\n",
    "X = obese_df[['Length_Of_Stay', 'Age_at_Given_Date',\n",
    "       'EGFR_Result_60_Or_Less', 'EGFR_Result', 'Gender', 'Deceased_in_EPR',\n",
    "       'Bleeding_Risk', 'VTE_Risk', 'Height', 'Weight', 'Calculated_BMI',\n",
    "       'Actual_BMI', 'BMI_Flag',\n",
    "       'Emergency_Admissions_Upto_36_Months_After_PerformedTime',\n",
    "       'Has_Comorbidity_Recorded_on_Spell',\n",
    "       'Has_Bleeding_Event_(or_Stroke)_on_Spell', 'Has_Stroke_on_Spell',\n",
    "       'Has_Thrombosis_on_Spell', 'Treatment_days', 'EventType_apixaban',\n",
    "       'EventType_dabigatran', 'EventType_edoxaban', 'EventType_rivaroxaban']]\n",
    "y = obese_df[['AC_Amount']]\n",
    "\n",
    "# define models and parameters\n",
    "model = LogisticRegression()\n",
    "solvers = ['newton-cg', 'lbfgs', 'liblinear']\n",
    "penalty = ['l2']\n",
    "c_values = [100, 10, 1.0, 0.1, 0.01]\n",
    "# define grid search\n",
    "grid = dict(solver=solvers,penalty=penalty,C=c_values)\n",
    "cv = RepeatedStratifiedKFold(n_splits=10, n_repeats=3, random_state=1)\n",
    "grid_search = GridSearchCV(estimator=model, param_grid=grid, n_jobs=-1, cv=cv, scoring='accuracy',error_score=0, verbose=0)\n",
    "\n",
    "\n",
    "grid_result = grid_search.fit(X, y)\n",
    "LR_result = grid_result\n",
    "# summarize results\n",
    "print(\"Best: %f using %s\" % (grid_result.best_score_, grid_result.best_params_))\n",
    "means = grid_result.cv_results_['mean_test_score']\n",
    "stds = grid_result.cv_results_['std_test_score']\n",
    "params = grid_result.cv_results_['params']\n",
    "for mean, stdev, param in zip(means, stds, params):\n",
    "    print(\"%f (%f) with: %r\" % (mean, stdev, param))\n",
    "    \n",
    "########################################## Using Standardised Data\n",
    "print(\"Using Standardised Data\")\n",
    "grid_result = grid_search.fit(standardized_X, y)\n",
    "LR_result_standard = grid_result\n",
    "# summarize results\n",
    "print(\"Best: %f using %s\" % (grid_result.best_score_, grid_result.best_params_))\n",
    "means = grid_result.cv_results_['mean_test_score']\n",
    "stds = grid_result.cv_results_['std_test_score']\n",
    "params = grid_result.cv_results_['params']\n",
    "for mean, stdev, param in zip(means, stds, params):\n",
    "    print(\"%f (%f) with: %r\" % (mean, stdev, param))\n",
    "\n",
    "########################################## Using Normalised Data\n",
    "print(\"Using Normalised Data\")\n",
    "grid_result = grid_search.fit(normalized_X, y)\n",
    "LR_result_normal = grid_result\n",
    "# summarize results\n",
    "print(\"Best: %f using %s\" % (grid_result.best_score_, grid_result.best_params_))\n",
    "means = grid_result.cv_results_['mean_test_score']\n",
    "stds = grid_result.cv_results_['std_test_score']\n",
    "params = grid_result.cv_results_['params']\n",
    "for mean, stdev, param in zip(means, stds, params):\n",
    "    print(\"%f (%f) with: %r\" % (mean, stdev, param))"
   ]
  },
  {
   "cell_type": "markdown",
   "metadata": {},
   "source": [
    "## 9. Gradient Bossting Classifier"
   ]
  },
  {
   "cell_type": "code",
   "execution_count": 48,
   "metadata": {},
   "outputs": [
    {
     "name": "stderr",
     "output_type": "stream",
     "text": [
      "D:\\Ayub_Ansari_PhD_Experiments\\Dr_Shahzad_Colab\\ve_dr_shahzad\\lib\\site-packages\\sklearn\\model_selection\\_split.py:676: UserWarning: The least populated class in y has only 2 members, which is less than n_splits=10.\n",
      "  warnings.warn(\n",
      "D:\\Ayub_Ansari_PhD_Experiments\\Dr_Shahzad_Colab\\ve_dr_shahzad\\lib\\site-packages\\sklearn\\model_selection\\_split.py:676: UserWarning: The least populated class in y has only 2 members, which is less than n_splits=10.\n",
      "  warnings.warn(\n",
      "D:\\Ayub_Ansari_PhD_Experiments\\Dr_Shahzad_Colab\\ve_dr_shahzad\\lib\\site-packages\\sklearn\\model_selection\\_split.py:676: UserWarning: The least populated class in y has only 2 members, which is less than n_splits=10.\n",
      "  warnings.warn(\n",
      "D:\\Ayub_Ansari_PhD_Experiments\\Dr_Shahzad_Colab\\ve_dr_shahzad\\lib\\site-packages\\sklearn\\ensemble\\_gb.py:494: DataConversionWarning: A column-vector y was passed when a 1d array was expected. Please change the shape of y to (n_samples, ), for example using ravel().\n",
      "  y = column_or_1d(y, warn=True)\n"
     ]
    },
    {
     "name": "stdout",
     "output_type": "stream",
     "text": [
      "Best: 0.987609 using {'learning_rate': 0.1, 'max_depth': 9, 'n_estimators': 1000, 'subsample': 1.0}\n",
      "0.454759 (0.000258) with: {'learning_rate': 0.001, 'max_depth': 3, 'n_estimators': 10, 'subsample': 0.5}\n",
      "0.454759 (0.000258) with: {'learning_rate': 0.001, 'max_depth': 3, 'n_estimators': 10, 'subsample': 0.7}\n",
      "0.454759 (0.000258) with: {'learning_rate': 0.001, 'max_depth': 3, 'n_estimators': 10, 'subsample': 1.0}\n",
      "0.527230 (0.004058) with: {'learning_rate': 0.001, 'max_depth': 3, 'n_estimators': 100, 'subsample': 0.5}\n",
      "0.527345 (0.004049) with: {'learning_rate': 0.001, 'max_depth': 3, 'n_estimators': 100, 'subsample': 0.7}\n",
      "0.527575 (0.004034) with: {'learning_rate': 0.001, 'max_depth': 3, 'n_estimators': 100, 'subsample': 1.0}\n",
      "0.763770 (0.006748) with: {'learning_rate': 0.001, 'max_depth': 3, 'n_estimators': 1000, 'subsample': 0.5}\n",
      "0.760011 (0.006901) with: {'learning_rate': 0.001, 'max_depth': 3, 'n_estimators': 1000, 'subsample': 0.7}\n",
      "0.755839 (0.006162) with: {'learning_rate': 0.001, 'max_depth': 3, 'n_estimators': 1000, 'subsample': 1.0}\n",
      "0.454759 (0.000258) with: {'learning_rate': 0.001, 'max_depth': 7, 'n_estimators': 10, 'subsample': 0.5}\n",
      "0.454759 (0.000258) with: {'learning_rate': 0.001, 'max_depth': 7, 'n_estimators': 10, 'subsample': 0.7}\n",
      "0.454759 (0.000258) with: {'learning_rate': 0.001, 'max_depth': 7, 'n_estimators': 10, 'subsample': 1.0}\n",
      "0.630425 (0.006238) with: {'learning_rate': 0.001, 'max_depth': 7, 'n_estimators': 100, 'subsample': 0.5}\n",
      "0.629299 (0.006632) with: {'learning_rate': 0.001, 'max_depth': 7, 'n_estimators': 100, 'subsample': 0.7}\n",
      "0.628793 (0.006307) with: {'learning_rate': 0.001, 'max_depth': 7, 'n_estimators': 100, 'subsample': 1.0}\n",
      "0.879644 (0.005774) with: {'learning_rate': 0.001, 'max_depth': 7, 'n_estimators': 1000, 'subsample': 0.5}\n",
      "0.879724 (0.005324) with: {'learning_rate': 0.001, 'max_depth': 7, 'n_estimators': 1000, 'subsample': 0.7}\n",
      "0.878069 (0.005653) with: {'learning_rate': 0.001, 'max_depth': 7, 'n_estimators': 1000, 'subsample': 1.0}\n",
      "0.454759 (0.000258) with: {'learning_rate': 0.001, 'max_depth': 9, 'n_estimators': 10, 'subsample': 0.5}\n",
      "0.454759 (0.000258) with: {'learning_rate': 0.001, 'max_depth': 9, 'n_estimators': 10, 'subsample': 0.7}\n",
      "0.454759 (0.000258) with: {'learning_rate': 0.001, 'max_depth': 9, 'n_estimators': 10, 'subsample': 1.0}\n",
      "0.673943 (0.005910) with: {'learning_rate': 0.001, 'max_depth': 9, 'n_estimators': 100, 'subsample': 0.5}\n",
      "0.676770 (0.006585) with: {'learning_rate': 0.001, 'max_depth': 9, 'n_estimators': 100, 'subsample': 0.7}\n",
      "0.677517 (0.009133) with: {'learning_rate': 0.001, 'max_depth': 9, 'n_estimators': 100, 'subsample': 1.0}\n",
      "0.931828 (0.004513) with: {'learning_rate': 0.001, 'max_depth': 9, 'n_estimators': 1000, 'subsample': 0.5}\n",
      "0.932172 (0.004736) with: {'learning_rate': 0.001, 'max_depth': 9, 'n_estimators': 1000, 'subsample': 0.7}\n",
      "0.929046 (0.005030) with: {'learning_rate': 0.001, 'max_depth': 9, 'n_estimators': 1000, 'subsample': 1.0}\n",
      "0.529759 (0.004021) with: {'learning_rate': 0.01, 'max_depth': 3, 'n_estimators': 10, 'subsample': 0.5}\n",
      "0.529747 (0.004089) with: {'learning_rate': 0.01, 'max_depth': 3, 'n_estimators': 10, 'subsample': 0.7}\n",
      "0.529977 (0.004170) with: {'learning_rate': 0.01, 'max_depth': 3, 'n_estimators': 10, 'subsample': 1.0}\n",
      "0.762805 (0.005736) with: {'learning_rate': 0.01, 'max_depth': 3, 'n_estimators': 100, 'subsample': 0.5}\n",
      "0.761322 (0.006602) with: {'learning_rate': 0.01, 'max_depth': 3, 'n_estimators': 100, 'subsample': 0.7}\n",
      "0.756747 (0.006348) with: {'learning_rate': 0.01, 'max_depth': 3, 'n_estimators': 100, 'subsample': 1.0}\n",
      "0.874644 (0.005445) with: {'learning_rate': 0.01, 'max_depth': 3, 'n_estimators': 1000, 'subsample': 0.5}\n",
      "0.872069 (0.005315) with: {'learning_rate': 0.01, 'max_depth': 3, 'n_estimators': 1000, 'subsample': 0.7}\n",
      "0.863966 (0.005913) with: {'learning_rate': 0.01, 'max_depth': 3, 'n_estimators': 1000, 'subsample': 1.0}\n",
      "0.634230 (0.006663) with: {'learning_rate': 0.01, 'max_depth': 7, 'n_estimators': 10, 'subsample': 0.5}\n",
      "0.634207 (0.006917) with: {'learning_rate': 0.01, 'max_depth': 7, 'n_estimators': 10, 'subsample': 0.7}\n",
      "0.633368 (0.006427) with: {'learning_rate': 0.01, 'max_depth': 7, 'n_estimators': 10, 'subsample': 1.0}\n",
      "0.879770 (0.005463) with: {'learning_rate': 0.01, 'max_depth': 7, 'n_estimators': 100, 'subsample': 0.5}\n",
      "0.880092 (0.005789) with: {'learning_rate': 0.01, 'max_depth': 7, 'n_estimators': 100, 'subsample': 0.7}\n",
      "0.878241 (0.005522) with: {'learning_rate': 0.01, 'max_depth': 7, 'n_estimators': 100, 'subsample': 1.0}\n",
      "0.984218 (0.001921) with: {'learning_rate': 0.01, 'max_depth': 7, 'n_estimators': 1000, 'subsample': 0.5}\n",
      "0.984483 (0.001934) with: {'learning_rate': 0.01, 'max_depth': 7, 'n_estimators': 1000, 'subsample': 0.7}\n",
      "0.983000 (0.002050) with: {'learning_rate': 0.01, 'max_depth': 7, 'n_estimators': 1000, 'subsample': 1.0}\n",
      "0.678184 (0.005961) with: {'learning_rate': 0.01, 'max_depth': 9, 'n_estimators': 10, 'subsample': 0.5}\n",
      "0.680115 (0.006771) with: {'learning_rate': 0.01, 'max_depth': 9, 'n_estimators': 10, 'subsample': 0.7}\n",
      "0.681368 (0.008804) with: {'learning_rate': 0.01, 'max_depth': 9, 'n_estimators': 10, 'subsample': 1.0}\n",
      "0.931529 (0.004844) with: {'learning_rate': 0.01, 'max_depth': 9, 'n_estimators': 100, 'subsample': 0.5}\n",
      "0.931908 (0.004692) with: {'learning_rate': 0.01, 'max_depth': 9, 'n_estimators': 100, 'subsample': 0.7}\n",
      "0.929586 (0.004632) with: {'learning_rate': 0.01, 'max_depth': 9, 'n_estimators': 100, 'subsample': 1.0}\n",
      "0.986644 (0.002080) with: {'learning_rate': 0.01, 'max_depth': 9, 'n_estimators': 1000, 'subsample': 0.5}\n",
      "0.986816 (0.002026) with: {'learning_rate': 0.01, 'max_depth': 9, 'n_estimators': 1000, 'subsample': 0.7}\n",
      "0.986287 (0.001850) with: {'learning_rate': 0.01, 'max_depth': 9, 'n_estimators': 1000, 'subsample': 1.0}\n",
      "0.761782 (0.007697) with: {'learning_rate': 0.1, 'max_depth': 3, 'n_estimators': 10, 'subsample': 0.5}\n",
      "0.760897 (0.006738) with: {'learning_rate': 0.1, 'max_depth': 3, 'n_estimators': 10, 'subsample': 0.7}\n",
      "0.758678 (0.007065) with: {'learning_rate': 0.1, 'max_depth': 3, 'n_estimators': 10, 'subsample': 1.0}\n",
      "0.871023 (0.011481) with: {'learning_rate': 0.1, 'max_depth': 3, 'n_estimators': 100, 'subsample': 0.5}\n",
      "0.868494 (0.009856) with: {'learning_rate': 0.1, 'max_depth': 3, 'n_estimators': 100, 'subsample': 0.7}\n",
      "0.864483 (0.005927) with: {'learning_rate': 0.1, 'max_depth': 3, 'n_estimators': 100, 'subsample': 1.0}\n",
      "0.900989 (0.187195) with: {'learning_rate': 0.1, 'max_depth': 3, 'n_estimators': 1000, 'subsample': 0.5}\n",
      "0.890138 (0.236204) with: {'learning_rate': 0.1, 'max_depth': 3, 'n_estimators': 1000, 'subsample': 0.7}\n",
      "0.971391 (0.008714) with: {'learning_rate': 0.1, 'max_depth': 3, 'n_estimators': 1000, 'subsample': 1.0}\n",
      "0.882149 (0.006017) with: {'learning_rate': 0.1, 'max_depth': 7, 'n_estimators': 10, 'subsample': 0.5}\n",
      "0.882552 (0.006645) with: {'learning_rate': 0.1, 'max_depth': 7, 'n_estimators': 10, 'subsample': 0.7}\n",
      "0.883575 (0.006300) with: {'learning_rate': 0.1, 'max_depth': 7, 'n_estimators': 10, 'subsample': 1.0}\n",
      "0.982230 (0.002006) with: {'learning_rate': 0.1, 'max_depth': 7, 'n_estimators': 100, 'subsample': 0.5}\n",
      "0.983793 (0.001798) with: {'learning_rate': 0.1, 'max_depth': 7, 'n_estimators': 100, 'subsample': 0.7}\n",
      "0.983517 (0.002023) with: {'learning_rate': 0.1, 'max_depth': 7, 'n_estimators': 100, 'subsample': 1.0}\n",
      "0.933920 (0.151239) with: {'learning_rate': 0.1, 'max_depth': 7, 'n_estimators': 1000, 'subsample': 0.5}\n",
      "0.972494 (0.049662) with: {'learning_rate': 0.1, 'max_depth': 7, 'n_estimators': 1000, 'subsample': 0.7}\n",
      "0.987437 (0.001753) with: {'learning_rate': 0.1, 'max_depth': 7, 'n_estimators': 1000, 'subsample': 1.0}\n",
      "0.933989 (0.005065) with: {'learning_rate': 0.1, 'max_depth': 9, 'n_estimators': 10, 'subsample': 0.5}\n",
      "0.936138 (0.004369) with: {'learning_rate': 0.1, 'max_depth': 9, 'n_estimators': 10, 'subsample': 0.7}\n",
      "0.934287 (0.004345) with: {'learning_rate': 0.1, 'max_depth': 9, 'n_estimators': 10, 'subsample': 1.0}\n",
      "0.985092 (0.001948) with: {'learning_rate': 0.1, 'max_depth': 9, 'n_estimators': 100, 'subsample': 0.5}\n",
      "0.985851 (0.002110) with: {'learning_rate': 0.1, 'max_depth': 9, 'n_estimators': 100, 'subsample': 0.7}\n",
      "0.986080 (0.001988) with: {'learning_rate': 0.1, 'max_depth': 9, 'n_estimators': 100, 'subsample': 1.0}\n",
      "0.972713 (0.056017) with: {'learning_rate': 0.1, 'max_depth': 9, 'n_estimators': 1000, 'subsample': 0.5}\n",
      "0.986885 (0.001976) with: {'learning_rate': 0.1, 'max_depth': 9, 'n_estimators': 1000, 'subsample': 0.7}\n",
      "0.987609 (0.001747) with: {'learning_rate': 0.1, 'max_depth': 9, 'n_estimators': 1000, 'subsample': 1.0}\n"
     ]
    }
   ],
   "source": [
    "from sklearn.ensemble import GradientBoostingClassifier\n",
    "from sklearn.model_selection import RepeatedStratifiedKFold\n",
    "from sklearn.model_selection import GridSearchCV\n",
    "#data = pd.read_csv(\"data.csv\", sep = \",\")\n",
    "#data.material = [0 if each == \"abs\" else 1 for each in data.material]\n",
    "#data.infill_pattern = [0 if each == \"grid\" else 1 for each in data.infill_pattern]\n",
    "#data['elongation'] = pd.cut(data['elongation'], bins=[0,1,3,4], labels=[\"small\", \"big\", \"very_big\"])\n",
    "\n",
    "#X = data[['layer_height', 'wall_thickness', 'infill_density', 'infill_pattern','nozzle_temperature', 'bed_temperature', 'print_speed', 'material','fan_speed']]\n",
    "#y = data[['elongation']]\n",
    "X = obese_df[['Length_Of_Stay', 'Age_at_Given_Date',\n",
    "       'EGFR_Result_60_Or_Less', 'EGFR_Result', 'Gender', 'Deceased_in_EPR',\n",
    "       'Bleeding_Risk', 'VTE_Risk', 'Height', 'Weight', 'Calculated_BMI',\n",
    "       'Actual_BMI', 'BMI_Flag',\n",
    "       'Emergency_Admissions_Upto_36_Months_After_PerformedTime',\n",
    "       'Has_Comorbidity_Recorded_on_Spell',\n",
    "       'Has_Bleeding_Event_(or_Stroke)_on_Spell', 'Has_Stroke_on_Spell',\n",
    "       'Has_Thrombosis_on_Spell', 'Treatment_days', 'EventType_apixaban',\n",
    "       'EventType_dabigatran', 'EventType_edoxaban', 'EventType_rivaroxaban']]\n",
    "y = obese_df[['AC_Amount']]\n",
    "\n",
    "# define models and parameters\n",
    "model = GradientBoostingClassifier()\n",
    "n_estimators = [10, 100, 1000]\n",
    "learning_rate = [0.001, 0.01, 0.1]\n",
    "subsample = [0.5, 0.7, 1.0]\n",
    "max_depth = [3, 7, 9]\n",
    "# define grid search\n",
    "grid = dict(learning_rate=learning_rate, n_estimators=n_estimators, subsample=subsample, max_depth=max_depth)\n",
    "cv = RepeatedStratifiedKFold(n_splits=10, n_repeats=3, random_state=1)\n",
    "grid_search = GridSearchCV(estimator=model, param_grid=grid, n_jobs=-1, cv=cv, scoring='accuracy',error_score=0)\n",
    "\n",
    "\n",
    "grid_result = grid_search.fit(X, y)\n",
    "GBC_result = grid_result\n",
    "# summarize results\n",
    "print(\"Best: %f using %s\" % (grid_result.best_score_, grid_result.best_params_))\n",
    "means = grid_result.cv_results_['mean_test_score']\n",
    "stds = grid_result.cv_results_['std_test_score']\n",
    "params = grid_result.cv_results_['params']\n",
    "for mean, stdev, param in zip(means, stds, params):\n",
    "    print(\"%f (%f) with: %r\" % (mean, stdev, param))"
   ]
  },
  {
   "cell_type": "markdown",
   "metadata": {},
   "source": [
    "## 10. Support Vector Machine"
   ]
  },
  {
   "cell_type": "code",
   "execution_count": null,
   "metadata": {},
   "outputs": [
    {
     "name": "stdout",
     "output_type": "stream",
     "text": [
      "Fitting 60 folds for each of 15 candidates, totalling 900 fits\n"
     ]
    },
    {
     "name": "stderr",
     "output_type": "stream",
     "text": [
      "D:\\Ayub_Ansari_PhD_Experiments\\Dr_Shahzad_Colab\\ve_dr_shahzad\\lib\\site-packages\\sklearn\\model_selection\\_split.py:676: UserWarning: The least populated class in y has only 2 members, which is less than n_splits=20.\n",
      "  warnings.warn(\n",
      "D:\\Ayub_Ansari_PhD_Experiments\\Dr_Shahzad_Colab\\ve_dr_shahzad\\lib\\site-packages\\sklearn\\model_selection\\_split.py:676: UserWarning: The least populated class in y has only 2 members, which is less than n_splits=20.\n",
      "  warnings.warn(\n",
      "D:\\Ayub_Ansari_PhD_Experiments\\Dr_Shahzad_Colab\\ve_dr_shahzad\\lib\\site-packages\\sklearn\\model_selection\\_split.py:676: UserWarning: The least populated class in y has only 2 members, which is less than n_splits=20.\n",
      "  warnings.warn(\n"
     ]
    }
   ],
   "source": [
    "from sklearn.svm import SVC\n",
    "\n",
    "#data = pd.read_csv(\"data.csv\", sep = \",\")\n",
    "#data.material = [0 if each == \"abs\" else 1 for each in data.material]\n",
    "#data.infill_pattern = [0 if each == \"grid\" else 1 for each in data.infill_pattern]\n",
    "#data['elongation'] = pd.cut(data['elongation'], bins=[0,1,3,4], labels=[\"small\", \"big\", \"very_big\"])\n",
    "\n",
    "#X = data[['layer_height', 'wall_thickness', 'infill_density', 'infill_pattern','nozzle_temperature', 'bed_temperature', 'print_speed', 'material','fan_speed']]\n",
    "#y = data[['elongation']]\n",
    "\n",
    "X = obese_df[['Length_Of_Stay', 'Age_at_Given_Date',\n",
    "       'EGFR_Result_60_Or_Less', 'EGFR_Result', 'Gender', 'Deceased_in_EPR',\n",
    "       'Bleeding_Risk', 'VTE_Risk', 'Height', 'Weight', 'Calculated_BMI',\n",
    "       'Actual_BMI', 'BMI_Flag',\n",
    "       'Emergency_Admissions_Upto_36_Months_After_PerformedTime',\n",
    "       'Has_Comorbidity_Recorded_on_Spell',\n",
    "       'Has_Bleeding_Event_(or_Stroke)_on_Spell', 'Has_Stroke_on_Spell',\n",
    "       'Has_Thrombosis_on_Spell', 'Treatment_days', 'EventType_apixaban',\n",
    "       'EventType_dabigatran', 'EventType_edoxaban', 'EventType_rivaroxaban']]\n",
    "y = obese_df[['AC_Amount']]\n",
    "# define model and parameters\n",
    "model = SVC()\n",
    "kernel = ['poly', 'rbf', 'sigmoid']\n",
    "C = [50, 10, 1.0, 0.1, 0.01]\n",
    "gamma = ['scale']\n",
    "# define grid search\n",
    "grid = dict(kernel=kernel,C=C,gamma=gamma)\n",
    "cv = RepeatedStratifiedKFold(n_splits=20, n_repeats=3, random_state=1)\n",
    "grid_search = GridSearchCV(estimator=model, param_grid=grid, n_jobs=-1, cv=cv, scoring='accuracy',error_score=0, verbose=1)\n",
    "\n",
    "grid_result = grid_search.fit(X, y)\n",
    "SVM_result = grid_result\n",
    "# summarize results\n",
    "print(\"Best: %f using %s\" % (grid_result.best_score_, grid_result.best_params_))\n",
    "means = grid_result.cv_results_['mean_test_score']\n",
    "stds = grid_result.cv_results_['std_test_score']\n",
    "params = grid_result.cv_results_['params']\n",
    "for mean, stdev, param in zip(means, stds, params):\n",
    "    print(\"%f (%f) with: %r\" % (mean, stdev, param))\n",
    "\n",
    "########################################## Using Standardised Data\n",
    "print(\"Using Standardised Data\")\n",
    "grid_result = grid_search.fit(standardized_X, y)\n",
    "SVM_result_standard = grid_result\n",
    "print(\"Best: %f using %s\" % (grid_result.best_score_, grid_result.best_params_))\n",
    "########################################## Using Normalised Data\n",
    "print(\"Using Normalised Data\")\n",
    "grid_result = grid_search.fit(normalized_X, y)\n",
    "SVM_result_normal = grid_result\n",
    "print(\"Best: %f using %s\" % (grid_result.best_score_, grid_result.best_params_))"
   ]
  },
  {
   "cell_type": "markdown",
   "metadata": {},
   "source": [
    "# Result Comparisons"
   ]
  },
  {
   "cell_type": "code",
   "execution_count": 37,
   "metadata": {},
   "outputs": [
    {
     "name": "stdout",
     "output_type": "stream",
     "text": [
      "Looking for any null/missing values in the data set\n",
      "layer_height          False\n",
      "wall_thickness        False\n",
      "infill_density        False\n",
      "infill_pattern        False\n",
      "nozzle_temperature    False\n",
      "bed_temperature       False\n",
      "print_speed           False\n",
      "material              False\n",
      "fan_speed             False\n",
      "roughness             False\n",
      "tension_strenght      False\n",
      "elongation            False\n",
      "dtype: bool\n",
      "LR: 0.680000 (0.271293)\n",
      "LDA: 0.760000 (0.215407)\n",
      "KNN: 0.580000 (0.260000)\n",
      "CART: 0.740000 (0.283549)\n",
      "NB: 0.740000 (0.283549)\n",
      "SVM: 0.680000 (0.240000)\n"
     ]
    },
    {
     "data": {
      "text/plain": [
       "\"    \\n# boxplot algorithm comparison\\nfig = plt.figure()\\nfig.suptitle('Algorithm Comparison')\\nax = fig.add_subplot(111)\\nplt.boxplot(results)\\nax.set_xticklabels(names)\\nplt.show()\\n\""
      ]
     },
     "execution_count": 37,
     "metadata": {},
     "output_type": "execute_result"
    }
   ],
   "source": [
    "# Compare Algorithms\n",
    "import pandas\n",
    "import matplotlib.pyplot as plt\n",
    "from sklearn import model_selection\n",
    "from sklearn.linear_model import LogisticRegression\n",
    "from sklearn.tree import DecisionTreeClassifier\n",
    "from sklearn.neighbors import KNeighborsClassifier\n",
    "from sklearn.discriminant_analysis import LinearDiscriminantAnalysis\n",
    "from sklearn.naive_bayes import GaussianNB\n",
    "from sklearn.svm import SVC\n",
    "# load dataset\n",
    "# Reading data from csv file\n",
    "data = pd.read_csv(\"data.csv\", sep = \",\")\n",
    "# Looking for any null/missing values in the data set\n",
    "print(\"Looking for any null/missing values in the data set\")\n",
    "print(data.isnull().any())\n",
    "#convert nominal values to numerical\n",
    "data.material = [0 if each == \"abs\" else 1 for each in data.material]                  # abs = 0, pla = 1\n",
    "data.infill_pattern = [0 if each == \"grid\" else 1 for each in data.infill_pattern]     # grid = 0, honeycomb = 1\n",
    "#convert numerical values to nominal ---> Numerical Binning\n",
    "data['elongation'] = pd.cut(data['elongation'], bins=[0,1,3,4], labels=[\"small\", \"big\", \"very_big\"])\n",
    "\n",
    "X = data[['layer_height', 'wall_thickness', 'infill_density', 'infill_pattern','nozzle_temperature', 'bed_temperature', 'print_speed', 'material','fan_speed']]\n",
    "Y = data[['elongation']]\n",
    "\n",
    "# prepare configuration for cross validation test harness\n",
    "seed = 7\n",
    "# prepare models\n",
    "models = []\n",
    "models.append(('LR', LogisticRegression()))\n",
    "models.append(('LDA', LinearDiscriminantAnalysis()))\n",
    "models.append(('KNN', KNeighborsClassifier()))\n",
    "models.append(('CART', DecisionTreeClassifier()))\n",
    "models.append(('NB', GaussianNB()))\n",
    "models.append(('SVM', SVC()))\n",
    "# evaluate each model in turn\n",
    "results = []\n",
    "names = []\n",
    "scoring = 'accuracy'\n",
    "for name, model in models:\n",
    "\tkfold = model_selection.KFold(n_splits=10, random_state=seed)\n",
    "\tcv_results = model_selection.cross_val_score(model, X, Y, cv=kfold, scoring=scoring)\n",
    "\tresults.append(cv_results)\n",
    "\tnames.append(name)\n",
    "\tmsg = \"%s: %f (%f)\" % (name, cv_results.mean(), cv_results.std())\n",
    "\tprint(msg)\n",
    "\n",
    "'''    \n",
    "# boxplot algorithm comparison\n",
    "fig = plt.figure()\n",
    "fig.suptitle('Algorithm Comparison')\n",
    "ax = fig.add_subplot(111)\n",
    "plt.boxplot(results)\n",
    "ax.set_xticklabels(names)\n",
    "plt.show()\n",
    "'''"
   ]
  },
  {
   "cell_type": "code",
   "execution_count": null,
   "metadata": {},
   "outputs": [],
   "source": []
  }
 ],
 "metadata": {
  "kernelspec": {
   "display_name": "ve_DOAC_NHS",
   "language": "python",
   "name": "ve_doac_nhs"
  },
  "language_info": {
   "codemirror_mode": {
    "name": "ipython",
    "version": 3
   },
   "file_extension": ".py",
   "mimetype": "text/x-python",
   "name": "python",
   "nbconvert_exporter": "python",
   "pygments_lexer": "ipython3",
   "version": "3.10.6"
  }
 },
 "nbformat": 4,
 "nbformat_minor": 2
}
